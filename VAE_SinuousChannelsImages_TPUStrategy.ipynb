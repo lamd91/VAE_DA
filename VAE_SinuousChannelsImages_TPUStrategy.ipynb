{
  "nbformat": 4,
  "nbformat_minor": 0,
  "metadata": {
    "accelerator": "TPU",
    "colab": {
      "name": "VAE_SinuousChannelsImages_TPUStrategy.ipynb",
      "provenance": [],
      "collapsed_sections": [],
      "include_colab_link": true
    },
    "kernelspec": {
      "display_name": "Python 3",
      "name": "python3"
    },
    "language_info": {
      "name": "python"
    }
  },
  "cells": [
    {
      "cell_type": "markdown",
      "metadata": {
        "id": "view-in-github",
        "colab_type": "text"
      },
      "source": [
        "<a href=\"https://colab.research.google.com/github/lamd91/VAE_DA/blob/master/VAE_SinuousChannelsImages_TPUStrategy.ipynb\" target=\"_parent\"><img src=\"https://colab.research.google.com/assets/colab-badge.svg\" alt=\"Open In Colab\"/></a>"
      ]
    },
    {
      "cell_type": "code",
      "metadata": {
        "id": "MlmkMoV9r0Zu",
        "colab": {
          "base_uri": "https://localhost:8080/"
        },
        "outputId": "0fd1a297-d529-496b-b4bb-75feecdf3cb3"
      },
      "source": [
        "import numpy as np\n",
        "import tensorflow as tf\n",
        "from matplotlib import pyplot as plt\n",
        "import math\n",
        "from IPython import display\n",
        "import os\n",
        "import pickle\n",
        "import random\n",
        "import shutil\n",
        "from PIL import Image\n",
        "from google.colab import drive\n",
        "drive.mount('/content/gdrive')"
      ],
      "execution_count": 1,
      "outputs": [
        {
          "output_type": "stream",
          "text": [
            "Mounted at /content/gdrive\n"
          ],
          "name": "stdout"
        }
      ]
    },
    {
      "cell_type": "markdown",
      "metadata": {
        "id": "KmD3kld4YHmt"
      },
      "source": [
        "# Set up TPUs and initialize TPU strategy"
      ]
    },
    {
      "cell_type": "code",
      "metadata": {
        "colab": {
          "base_uri": "https://localhost:8080/"
        },
        "id": "Iz65QZL4XPah",
        "outputId": "f1ac2027-ce00-4e4b-b8bf-440dea1baef9"
      },
      "source": [
        "try:\n",
        "    tpu_address = 'grpc://' + os.environ['COLAB_TPU_ADDR']\n",
        "    tpu = tf.distribute.cluster_resolver.TPUClusterResolver(tpu_address)\n",
        "    tf.config.experimental_connect_to_cluster(tpu)\n",
        "    tf.tpu.experimental.initialize_tpu_system(tpu)\n",
        "    strategy = tf.distribute.experimental.TPUStrategy(tpu)\n",
        "    print('Running on TPU ', tpu.cluster_spec().as_dict()['worker'])\n",
        "    print('Number of accelerators: ', strategy.num_replicas_in_sync)\n",
        "except ValueError:\n",
        "    print(\"TPU failed to initialize.\")"
      ],
      "execution_count": 2,
      "outputs": [
        {
          "output_type": "stream",
          "text": [
            "INFO:tensorflow:Initializing the TPU system: grpc://10.11.166.146:8470\n"
          ],
          "name": "stdout"
        },
        {
          "output_type": "stream",
          "text": [
            "INFO:tensorflow:Initializing the TPU system: grpc://10.11.166.146:8470\n"
          ],
          "name": "stderr"
        },
        {
          "output_type": "stream",
          "text": [
            "INFO:tensorflow:Clearing out eager caches\n"
          ],
          "name": "stdout"
        },
        {
          "output_type": "stream",
          "text": [
            "INFO:tensorflow:Clearing out eager caches\n"
          ],
          "name": "stderr"
        },
        {
          "output_type": "stream",
          "text": [
            "INFO:tensorflow:Finished initializing TPU system.\n"
          ],
          "name": "stdout"
        },
        {
          "output_type": "stream",
          "text": [
            "INFO:tensorflow:Finished initializing TPU system.\n",
            "WARNING:absl:`tf.distribute.experimental.TPUStrategy` is deprecated, please use  the non experimental symbol `tf.distribute.TPUStrategy` instead.\n"
          ],
          "name": "stderr"
        },
        {
          "output_type": "stream",
          "text": [
            "INFO:tensorflow:Found TPU system:\n"
          ],
          "name": "stdout"
        },
        {
          "output_type": "stream",
          "text": [
            "INFO:tensorflow:Found TPU system:\n"
          ],
          "name": "stderr"
        },
        {
          "output_type": "stream",
          "text": [
            "INFO:tensorflow:*** Num TPU Cores: 8\n"
          ],
          "name": "stdout"
        },
        {
          "output_type": "stream",
          "text": [
            "INFO:tensorflow:*** Num TPU Cores: 8\n"
          ],
          "name": "stderr"
        },
        {
          "output_type": "stream",
          "text": [
            "INFO:tensorflow:*** Num TPU Workers: 1\n"
          ],
          "name": "stdout"
        },
        {
          "output_type": "stream",
          "text": [
            "INFO:tensorflow:*** Num TPU Workers: 1\n"
          ],
          "name": "stderr"
        },
        {
          "output_type": "stream",
          "text": [
            "INFO:tensorflow:*** Num TPU Cores Per Worker: 8\n"
          ],
          "name": "stdout"
        },
        {
          "output_type": "stream",
          "text": [
            "INFO:tensorflow:*** Num TPU Cores Per Worker: 8\n"
          ],
          "name": "stderr"
        },
        {
          "output_type": "stream",
          "text": [
            "INFO:tensorflow:*** Available Device: _DeviceAttributes(/job:localhost/replica:0/task:0/device:CPU:0, CPU, 0, 0)\n"
          ],
          "name": "stdout"
        },
        {
          "output_type": "stream",
          "text": [
            "INFO:tensorflow:*** Available Device: _DeviceAttributes(/job:localhost/replica:0/task:0/device:CPU:0, CPU, 0, 0)\n"
          ],
          "name": "stderr"
        },
        {
          "output_type": "stream",
          "text": [
            "INFO:tensorflow:*** Available Device: _DeviceAttributes(/job:worker/replica:0/task:0/device:CPU:0, CPU, 0, 0)\n"
          ],
          "name": "stdout"
        },
        {
          "output_type": "stream",
          "text": [
            "INFO:tensorflow:*** Available Device: _DeviceAttributes(/job:worker/replica:0/task:0/device:CPU:0, CPU, 0, 0)\n"
          ],
          "name": "stderr"
        },
        {
          "output_type": "stream",
          "text": [
            "INFO:tensorflow:*** Available Device: _DeviceAttributes(/job:worker/replica:0/task:0/device:TPU:0, TPU, 0, 0)\n"
          ],
          "name": "stdout"
        },
        {
          "output_type": "stream",
          "text": [
            "INFO:tensorflow:*** Available Device: _DeviceAttributes(/job:worker/replica:0/task:0/device:TPU:0, TPU, 0, 0)\n"
          ],
          "name": "stderr"
        },
        {
          "output_type": "stream",
          "text": [
            "INFO:tensorflow:*** Available Device: _DeviceAttributes(/job:worker/replica:0/task:0/device:TPU:1, TPU, 0, 0)\n"
          ],
          "name": "stdout"
        },
        {
          "output_type": "stream",
          "text": [
            "INFO:tensorflow:*** Available Device: _DeviceAttributes(/job:worker/replica:0/task:0/device:TPU:1, TPU, 0, 0)\n"
          ],
          "name": "stderr"
        },
        {
          "output_type": "stream",
          "text": [
            "INFO:tensorflow:*** Available Device: _DeviceAttributes(/job:worker/replica:0/task:0/device:TPU:2, TPU, 0, 0)\n"
          ],
          "name": "stdout"
        },
        {
          "output_type": "stream",
          "text": [
            "INFO:tensorflow:*** Available Device: _DeviceAttributes(/job:worker/replica:0/task:0/device:TPU:2, TPU, 0, 0)\n"
          ],
          "name": "stderr"
        },
        {
          "output_type": "stream",
          "text": [
            "INFO:tensorflow:*** Available Device: _DeviceAttributes(/job:worker/replica:0/task:0/device:TPU:3, TPU, 0, 0)\n"
          ],
          "name": "stdout"
        },
        {
          "output_type": "stream",
          "text": [
            "INFO:tensorflow:*** Available Device: _DeviceAttributes(/job:worker/replica:0/task:0/device:TPU:3, TPU, 0, 0)\n"
          ],
          "name": "stderr"
        },
        {
          "output_type": "stream",
          "text": [
            "INFO:tensorflow:*** Available Device: _DeviceAttributes(/job:worker/replica:0/task:0/device:TPU:4, TPU, 0, 0)\n"
          ],
          "name": "stdout"
        },
        {
          "output_type": "stream",
          "text": [
            "INFO:tensorflow:*** Available Device: _DeviceAttributes(/job:worker/replica:0/task:0/device:TPU:4, TPU, 0, 0)\n"
          ],
          "name": "stderr"
        },
        {
          "output_type": "stream",
          "text": [
            "INFO:tensorflow:*** Available Device: _DeviceAttributes(/job:worker/replica:0/task:0/device:TPU:5, TPU, 0, 0)\n"
          ],
          "name": "stdout"
        },
        {
          "output_type": "stream",
          "text": [
            "INFO:tensorflow:*** Available Device: _DeviceAttributes(/job:worker/replica:0/task:0/device:TPU:5, TPU, 0, 0)\n"
          ],
          "name": "stderr"
        },
        {
          "output_type": "stream",
          "text": [
            "INFO:tensorflow:*** Available Device: _DeviceAttributes(/job:worker/replica:0/task:0/device:TPU:6, TPU, 0, 0)\n"
          ],
          "name": "stdout"
        },
        {
          "output_type": "stream",
          "text": [
            "INFO:tensorflow:*** Available Device: _DeviceAttributes(/job:worker/replica:0/task:0/device:TPU:6, TPU, 0, 0)\n"
          ],
          "name": "stderr"
        },
        {
          "output_type": "stream",
          "text": [
            "INFO:tensorflow:*** Available Device: _DeviceAttributes(/job:worker/replica:0/task:0/device:TPU:7, TPU, 0, 0)\n"
          ],
          "name": "stdout"
        },
        {
          "output_type": "stream",
          "text": [
            "INFO:tensorflow:*** Available Device: _DeviceAttributes(/job:worker/replica:0/task:0/device:TPU:7, TPU, 0, 0)\n"
          ],
          "name": "stderr"
        },
        {
          "output_type": "stream",
          "text": [
            "INFO:tensorflow:*** Available Device: _DeviceAttributes(/job:worker/replica:0/task:0/device:TPU_SYSTEM:0, TPU_SYSTEM, 0, 0)\n"
          ],
          "name": "stdout"
        },
        {
          "output_type": "stream",
          "text": [
            "INFO:tensorflow:*** Available Device: _DeviceAttributes(/job:worker/replica:0/task:0/device:TPU_SYSTEM:0, TPU_SYSTEM, 0, 0)\n"
          ],
          "name": "stderr"
        },
        {
          "output_type": "stream",
          "text": [
            "INFO:tensorflow:*** Available Device: _DeviceAttributes(/job:worker/replica:0/task:0/device:XLA_CPU:0, XLA_CPU, 0, 0)\n"
          ],
          "name": "stdout"
        },
        {
          "output_type": "stream",
          "text": [
            "INFO:tensorflow:*** Available Device: _DeviceAttributes(/job:worker/replica:0/task:0/device:XLA_CPU:0, XLA_CPU, 0, 0)\n"
          ],
          "name": "stderr"
        },
        {
          "output_type": "stream",
          "text": [
            "Running on TPU  ['10.11.166.146:8470']\n",
            "Number of accelerators:  8\n"
          ],
          "name": "stdout"
        }
      ]
    },
    {
      "cell_type": "markdown",
      "metadata": {
        "id": "45gw1g8s_P0k"
      },
      "source": [
        "# Download the Dataset\n",
        "\n",
        "Upload on Google Drive `mps_simulations.tar.gz` and `strebelle2500.png` located in the \"data\" directory of the github repository. \n",
        "Extract the content of `mps_simulations.tar.gz` here in Colab. The extracted files will be located in a directory named `images`."
      ]
    },
    {
      "cell_type": "code",
      "metadata": {
        "colab": {
          "base_uri": "https://localhost:8080/",
          "height": 102
        },
        "id": "3GNaVU5r_cCC",
        "outputId": "21b83f49-4931-4dc8-eb2b-97fd52d9fade"
      },
      "source": [
        "!tar -xf \"/content/gdrive/My Drive/mps_simulations.tar.gz\" \n",
        "!rm -r images/.ipynb_checkpoints\n",
        "\n",
        "# Show one example of MPS simulation image that will be used for training\n",
        "i = random.randint(0, 1999)\n",
        "image = pickle.load(open(f'images/img-{i}.pickle', 'rb')).astype('uint8')\n",
        "plt.imshow(image, cmap='gray')"
      ],
      "execution_count": 3,
      "outputs": [
        {
          "output_type": "execute_result",
          "data": {
            "text/plain": [
              "<matplotlib.image.AxesImage at 0x7fd8e9fe41d0>"
            ]
          },
          "metadata": {
            "tags": []
          },
          "execution_count": 3
        },
        {
          "output_type": "display_data",
          "data": {
            "image/png": "[encoded data removed]",
            "text/plain": [
              "<Figure size 432x288 with 1 Axes>"
            ]
          },
          "metadata": {
            "tags": [],
            "needs_background": "light"
          }
        }
      ]
    },
    {
      "cell_type": "markdown",
      "metadata": {
        "id": "QtyFlQK8_rSP"
      },
      "source": [
        "Copy the file `strebelle2500.png` in Colab. It will be used to prepare additional image data for training and validation."
      ]
    },
    {
      "cell_type": "code",
      "metadata": {
        "colab": {
          "base_uri": "https://localhost:8080/"
        },
        "id": "tTNaUhSI_qgW",
        "outputId": "5996cfa0-f989-4ab0-d977-95d35fcc322c"
      },
      "source": [
        "!cp -v /content/gdrive/MyDrive/strebelle2500.png ."
      ],
      "execution_count": 4,
      "outputs": [
        {
          "output_type": "stream",
          "text": [
            "'/content/gdrive/MyDrive/strebelle2500.png' -> './strebelle2500.png'\n"
          ],
          "name": "stdout"
        }
      ]
    },
    {
      "cell_type": "code",
      "metadata": {
        "id": "nejBn076s2So"
      },
      "source": [
        "# Define global constants\n",
        "BATCH_SIZE_PER_REPLICA = 128\n",
        "BATCH_SIZE = BATCH_SIZE_PER_REPLICA * strategy.num_replicas_in_sync\n",
        "LATENT_DIM = 2\n",
        "EPOCHS = 1000\n",
        "IMAGE_HEIGHT = 50\n",
        "IMAGE_WIDTH = 500\n",
        "NUM_CHANNELS = 1\n",
        "NUM_EXAMPLES = 30000"
      ],
      "execution_count": 5,
      "outputs": []
    },
    {
      "cell_type": "markdown",
      "metadata": {
        "id": "MkvPR9z8AYSx"
      },
      "source": [
        "# Prepare the Dataset"
      ]
    },
    {
      "cell_type": "code",
      "metadata": {
        "id": "klRQAqMks5PD"
      },
      "source": [
        "def map_image(image):\n",
        "    '''returns a reshaped tensor from a given image'''\n",
        "    image = tf.cast(image, dtype=tf.float32)\n",
        "    image = image / 255.0\n",
        "    image = tf.reshape(image, shape=(IMAGE_HEIGHT, IMAGE_WIDTH, NUM_CHANNELS,))\n",
        "\n",
        "    return image, image\n",
        "\n",
        "def extract_subimages_from_image(image_file, num_subimages):\n",
        "    \"\"\"Extract random images of fixed size from a given big image.\"\"\"\n",
        "    # First resize original image\n",
        "    im = Image.open(image_file)\n",
        "    im_resized = im.resize((im.size[0], int(im.size[1]*0.5)))\n",
        "\n",
        "    # Then extract subimages from the resized image\n",
        "    subimages = []\n",
        "    x_y_pairs = set()\n",
        "    count = 0\n",
        "    while count < num_subimages:\n",
        "        x_topleft = np.random.randint(0, 2000)\n",
        "        y_topleft = np.random.randint(0, 1200)\n",
        "        if (x_topleft, y_topleft) not in x_y_pairs:\n",
        "            im_crop = im_resized.crop((x_topleft, \n",
        "                                       y_topleft, \n",
        "                                       x_topleft + IMAGE_WIDTH, \n",
        "                                       y_topleft + IMAGE_HEIGHT))\n",
        "            im_final = np.array(im_crop, dtype=np.uint8)\n",
        "            subimages.append(im_final)\n",
        "            for i in range(10):\n",
        "                x_y_pairs.add((x_topleft+i, y_topleft+i))\n",
        "            count += 1\n",
        "\n",
        "    return subimages\n",
        "\n",
        "def get_datasets(images, map_fn, test_size):\n",
        "    \"\"\"Prepares the datasets from list of images.\"\"\"\n",
        "    train_dataset = tf.data.Dataset.from_tensor_slices(\n",
        "        images[0:int(NUM_EXAMPLES*(1-test_size))])\n",
        "    val_dataset = tf.data.Dataset.from_tensor_slices(\n",
        "        images[int(NUM_EXAMPLES*(1-test_size)):])\n",
        "\n",
        "    train_dataset = train_dataset.map(map_fn).cache().shuffle(1024).batch(BATCH_SIZE, drop_remainder=True)\n",
        "    val_dataset = val_dataset.map(map_fn).cache().batch(BATCH_SIZE, drop_remainder=True)\n",
        "\n",
        "    return train_dataset, val_dataset\n",
        "\n",
        "# Load and prepare image dataset for training\n",
        "image_array = extract_subimages_from_image(\"strebelle2500.png\", NUM_EXAMPLES)\n",
        "train_dataset, val_dataset = get_datasets(image_array, map_image,\n",
        "                                                        test_size=0.3)"
      ],
      "execution_count": 6,
      "outputs": []
    },
    {
      "cell_type": "code",
      "metadata": {
        "id": "ZReHg3QTtfe9"
      },
      "source": [
        "class Sampling(tf.keras.layers.Layer):\n",
        "    def call(self, inputs):\n",
        "        \"\"\"Generates a random sample and combines with the encoder output\n",
        "\n",
        "        Args:\n",
        "          inputs -- output tensor from the encoder\n",
        "\n",
        "        Returns:\n",
        "          `inputs` tensors combined with a random sample\n",
        "        \"\"\"\n",
        "\n",
        "        # unpack the output of the encoder\n",
        "        mu, sigma = inputs\n",
        "\n",
        "        # get the size and dimensions of the batch\n",
        "        batch = tf.shape(mu)[0]\n",
        "        dim = tf.shape(mu)[1]\n",
        "\n",
        "        # generate a random tensor\n",
        "        epsilon = tf.keras.backend.random_normal(shape=(batch, dim))\n",
        "\n",
        "        # combine the inputs and noise\n",
        "        return mu + tf.exp(0.5 * sigma) * epsilon\n",
        "\n",
        "def encoder_layers(inputs, latent_dim):\n",
        "    \"\"\"Defines the encoder's layers.\n",
        "    Args:\n",
        "      inputs -- batch from the dataset\n",
        "      latent_dim -- dimensionality of the latent space\n",
        "\n",
        "    Returns:\n",
        "      mu -- learned mean\n",
        "      sigma -- learned standard deviation\n",
        "      batch_2.shape -- shape of the features before flattening\n",
        "    \"\"\"\n",
        "\n",
        "    # add the Conv2D layers followed by BatchNormalization\n",
        "    x = tf.keras.layers.Conv2D(filters=32, kernel_size=3, strides=2, padding=\"same\", activation='relu',\n",
        "                               name=\"encode_conv1\")(inputs)\n",
        "    x = tf.keras.layers.BatchNormalization()(x)\n",
        "    x = tf.keras.layers.Conv2D(filters=64, kernel_size=3, strides=2, padding='same', activation='relu',\n",
        "                               name=\"encode_conv2\")(x)\n",
        "    x = tf.keras.layers.BatchNormalization()(x)\n",
        "    x = tf.keras.layers.Conv2D(filters=128, kernel_size=3, strides=2, padding='same', activation='relu',\n",
        "                               name=\"encode_conv3\")(x)\n",
        "\n",
        "    # assign to a different variable so you can extract the shape later\n",
        "    batch_3 = tf.keras.layers.BatchNormalization()(x)\n",
        "\n",
        "    # flatten the features and feed into the Dense network\n",
        "    x = tf.keras.layers.Flatten(name=\"encode_flatten\")(batch_3)\n",
        "\n",
        "    # we arbitrarily used 256 units here but feel free to change\n",
        "    x = tf.keras.layers.Dense(1024, activation='relu', name=\"encode_dense\")(x)\n",
        "    x = tf.keras.layers.BatchNormalization()(x)\n",
        "\n",
        "    # add output Dense networks for mu and sigma, units equal to the declared latent_dim.\n",
        "    mu = tf.keras.layers.Dense(latent_dim, name='latent_mu')(x)\n",
        "    sigma = tf.keras.layers.Dense(latent_dim, name='latent_sigma')(x)\n",
        "\n",
        "    return mu, sigma, batch_3.shape\n",
        "\n",
        "def encoder_model(latent_dim, input_shape):\n",
        "    \"\"\"Defines the encoder model with the Sampling layer\n",
        "    Args:\n",
        "      latent_dim -- dimensionality of the latent space\n",
        "      input_shape -- shape of the dataset batch\n",
        "\n",
        "    Returns:\n",
        "      model -- the encoder model\n",
        "      conv_shape -- shape of the features before flattening\n",
        "    \"\"\"\n",
        "\n",
        "    # declare the inputs tensor with the given shape\n",
        "    inputs = tf.keras.layers.Input(shape=input_shape)\n",
        "\n",
        "    # get the output of the encoder_layers() function\n",
        "    mu, sigma, conv_shape = encoder_layers(inputs, latent_dim=LATENT_DIM)\n",
        "\n",
        "    # feed mu and sigma to the Sampling layer\n",
        "    z = Sampling()((mu, sigma))\n",
        "\n",
        "    # build the whole encoder model\n",
        "    model = tf.keras.Model(inputs, outputs=[mu, sigma, z])\n",
        "\n",
        "    return model, conv_shape\n",
        "\n",
        "# Define decision variables for adding a Cropping2D layer or not after \n",
        "# upsampling in decoder layers\n",
        "topcrop_after_upsampling1 = (math.ceil(math.ceil(IMAGE_HEIGHT/2)/2) % 2 != 0)\n",
        "leftcrop_after_upsampling1 = (math.ceil(math.ceil(IMAGE_WIDTH/2)/2) % 2 != 0)\n",
        "topcrop_after_upsampling2 = (math.ceil(IMAGE_HEIGHT/2) % 2 != 0)\n",
        "leftcrop_after_upsampling2 = (math.ceil(IMAGE_WIDTH/2) % 2 != 0)\n",
        "topcrop_after_upsampling3 = (IMAGE_HEIGHT % 2 != 0)\n",
        "leftcrop_after_upsampling3 = (IMAGE_WIDTH % 2 != 0)\n",
        "\n",
        "def decoder_layers(inputs, conv_shape, topcrop_after_upsampling1, \n",
        "                   leftcrop_after_upsampling1, topcrop_after_upsampling2, \n",
        "                   leftcrop_after_upsampling2,\n",
        "                   topcrop_after_upsampling3, leftcrop_after_upsampling3):\n",
        "    \"\"\"Defines the decoder layers.\n",
        "    Args:\n",
        "      inputs -- output of the encoder\n",
        "      conv_shape -- shape of the features before flattening\n",
        "\n",
        "    Returns:\n",
        "      tensor containing the decoded output\n",
        "    \"\"\"\n",
        "\n",
        "    # feed to a Dense network with units computed from the conv_shape dimensions\n",
        "    units = conv_shape[1] * conv_shape[2] * conv_shape[3]\n",
        "    x = tf.keras.layers.Dense(units, \n",
        "                              activation='relu', \n",
        "                              name=\"decode_dense1\")(inputs)\n",
        "    x = tf.keras.layers.BatchNormalization()(x)\n",
        "\n",
        "    # reshape output using the conv_shape dimensions\n",
        "    x = tf.keras.layers.Reshape((conv_shape[1], conv_shape[2], conv_shape[3]), \n",
        "                                name=\"decode_reshape\")(x)\n",
        "\n",
        "    # upsample the features back to the original dimensions\n",
        "    # for that, make sure to add Cropping2D layers after upsampling when needed\n",
        "    x = tf.keras.layers.Conv2DTranspose(filters=128, kernel_size=3, strides=2, \n",
        "                                        padding='same', activation='relu',\n",
        "                                        name=\"decode_conv2d_1\")(x)\n",
        "    x = tf.keras.layers.BatchNormalization()(x)\n",
        "    if topcrop_after_upsampling1:\n",
        "        x = tf.keras.layers.Cropping2D(cropping=((1, 0), (0, 0)))(x)\n",
        "    if leftcrop_after_upsampling1:\n",
        "        x = tf.keras.layers.Cropping2D(cropping=((0, 0), (1, 0)))(x)\n",
        "    x = tf.keras.layers.Conv2DTranspose(filters=64, kernel_size=3, strides=2, \n",
        "                                        padding='same', activation='relu',\n",
        "                                        name=\"decode_conv2d_2\")(x)\n",
        "    x = tf.keras.layers.BatchNormalization()(x)\n",
        "    if topcrop_after_upsampling2:\n",
        "        x = tf.keras.layers.Cropping2D(cropping=((1, 0), (0, 0)))(x)\n",
        "    if leftcrop_after_upsampling2:\n",
        "        x = tf.keras.layers.Cropping2D(cropping=((0, 0), (1, 0)))(x)\n",
        "    x = tf.keras.layers.Conv2DTranspose(filters=32, kernel_size=3, strides=2, \n",
        "                                        padding='same', activation='relu',\n",
        "                                        name=\"decode_conv2d_3\")(x)\n",
        "    x = tf.keras.layers.BatchNormalization()(x)\n",
        "    if topcrop_after_upsampling3:\n",
        "        x = tf.keras.layers.Cropping2D(cropping=((1, 0), (0, 0)))(x)\n",
        "    if leftcrop_after_upsampling3:\n",
        "        x = tf.keras.layers.Cropping2D(cropping=((0, 0), (1, 0)))(x)\n",
        "    x = tf.keras.layers.Conv2DTranspose(filters=1, kernel_size=3, strides=1, \n",
        "                                        padding='same', activation='sigmoid',\n",
        "                                        name=\"decode_final\")(x)\n",
        "\n",
        "    return x\n",
        "\n",
        "def decoder_model(latent_dim, conv_shape):\n",
        "    \"\"\"Defines the decoder model.\n",
        "    Args:\n",
        "      latent_dim -- dimensionality of the latent space\n",
        "      conv_shape -- shape of the features before flattening\n",
        "\n",
        "    Returns:\n",
        "      model -- the decoder model\n",
        "    \"\"\"\n",
        "\n",
        "    # set the inputs to the shape of the latent space\n",
        "    inputs = tf.keras.layers.Input(shape=(latent_dim,))\n",
        "\n",
        "    # get the output of the decoder layers\n",
        "    outputs = decoder_layers(inputs, conv_shape, topcrop_after_upsampling1, \n",
        "                             leftcrop_after_upsampling1, \n",
        "                             topcrop_after_upsampling2, \n",
        "                             leftcrop_after_upsampling2, \n",
        "                             topcrop_after_upsampling3, \n",
        "                             leftcrop_after_upsampling3)\n",
        "\n",
        "    # declare the inputs and outputs of the model\n",
        "    model = tf.keras.Model(inputs, outputs)\n",
        "\n",
        "    return model\n",
        "\n",
        "def kl_reconstruction_loss(inputs, outputs, mu, sigma):\n",
        "    \"\"\" Computes the Kullback-Leibler Divergence (KLD)\n",
        "    Args:\n",
        "      inputs -- batch from the dataset\n",
        "      outputs -- output of the Sampling layer\n",
        "      mu -- mean\n",
        "      sigma -- standard deviation\n",
        "\n",
        "    Returns:\n",
        "      KLD loss\n",
        "    \"\"\"\n",
        "    kl_loss = 1 + sigma - tf.square(mu) - tf.math.exp(sigma)\n",
        "    kl_loss = tf.reduce_mean(kl_loss) * -0.5\n",
        "\n",
        "    return kl_loss\n",
        "\n",
        "def vae_model(encoder, decoder, input_shape):\n",
        "    \"\"\"Defines the VAE model\n",
        "    Args:\n",
        "      encoder -- the encoder model\n",
        "      decoder -- the decoder model\n",
        "      input_shape -- shape of the dataset batch\n",
        "\n",
        "    Returns:\n",
        "      the complete VAE model\n",
        "    \"\"\"\n",
        "    # set the inputs\n",
        "    inputs = tf.keras.layers.Input(shape=input_shape)\n",
        "\n",
        "    # get mu, sigma, and z from the encoder output\n",
        "    mu, sigma, z = encoder(inputs)\n",
        "\n",
        "    # get reconstructed output from the decoder\n",
        "    reconstructed = decoder(z)\n",
        "\n",
        "    # define the inputs and outputs of the VAE\n",
        "    model = tf.keras.Model(inputs=inputs, outputs=reconstructed)\n",
        "\n",
        "    # add the KL loss\n",
        "    loss = kl_reconstruction_loss(inputs, z, mu, sigma)\n",
        "    model.add_loss(loss)\n",
        "\n",
        "    return model\n",
        "\n",
        "def get_models(input_shape, latent_dim):\n",
        "    \"\"\"Returns the encoder, decoder, and vae models\"\"\"\n",
        "    encoder, conv_shape = encoder_model(latent_dim=latent_dim, \n",
        "                                        input_shape=input_shape)\n",
        "    decoder = decoder_model(latent_dim=latent_dim, conv_shape=conv_shape)\n",
        "    vae = vae_model(encoder, decoder, input_shape=input_shape)\n",
        "    return encoder, decoder, vae\n",
        "\n",
        "\n",
        "# Define a VAE class via model subclassing\n",
        "class VAE(tf.keras.Model):\n",
        "    def __init__(self, encoder, decoder, variational_autoencoder, loss_metrics,\n",
        "                 val_loss_metrics):\n",
        "        super(VAE, self).__init__()\n",
        "        self.encoder = encoder\n",
        "        self.decoder = decoder\n",
        "        self.vae = variational_autoencoder\n",
        "        self.loss_metrics = loss_metrics\n",
        "        self.val_loss_metrics = val_loss_metrics\n",
        "\n",
        "    # override train_step method\n",
        "    def train_step(self, images):\n",
        "        if isinstance(images, tuple):\n",
        "            images = images[0]\n",
        "        with tf.GradientTape() as tape:\n",
        "            # feed a batch to the VAE model\n",
        "            reconstructed = self.vae(images)\n",
        "            # compute reconstruction loss\n",
        "            flattened_inputs = tf.reshape(images, [-1])\n",
        "            flattened_outputs = tf.reshape(reconstructed, [-1])\n",
        "            loss = self.compiled_loss(flattened_inputs, flattened_outputs) \\\n",
        "                   * images.shape[1] * images.shape[2]\n",
        "            # add KLD regularization loss\n",
        "            loss += sum(self.vae.losses)\n",
        "\n",
        "        # compute the gradients and update the model weights\n",
        "        grads = tape.gradient(loss, self.vae.trainable_weights)\n",
        "        self.optimizer.apply_gradients(zip(grads, self.vae.trainable_weights))\n",
        "\n",
        "        # update metrics\n",
        "        self.loss_metrics.update_state(loss)\n",
        "        \n",
        "        # return a dict mapping metrics names to current value\n",
        "        return {'loss': self.loss_metrics.result()}\n",
        "\n",
        "    # override test_step method\n",
        "    def test_step(self, images):\n",
        "        if isinstance(images, tuple):\n",
        "            images = images[0]\n",
        "        # compute predictions\n",
        "        reconstructed = self.vae(images)\n",
        "        # compute loss\n",
        "        flattened_inputs = tf.reshape(images, [-1])\n",
        "        flattened_outputs = tf.reshape(reconstructed, [-1])\n",
        "        loss = self.compiled_loss(flattened_inputs, flattened_outputs) \\\n",
        "               * images.shape[1] * images.shape[2]\n",
        "        # add KLD regularization loss\n",
        "        loss += sum(self.vae.losses)\n",
        "        # update metrics\n",
        "        self.val_loss_metrics.update_state(loss)\n",
        "        # return a dict mapping metrics names to current value\n",
        "        return {'loss': self.val_loss_metrics.result()}\n",
        "\n",
        "    def call(self, images):\n",
        "        if isinstance(images, tuple):\n",
        "            images = images[0]\n",
        "        return self.vae(images)"
      ],
      "execution_count": 7,
      "outputs": []
    },
    {
      "cell_type": "markdown",
      "metadata": {
        "id": "TPapNIAMYerc"
      },
      "source": [
        "# Display Utilities"
      ]
    },
    {
      "cell_type": "code",
      "metadata": {
        "id": "YqBdfidbt3aF"
      },
      "source": [
        "def generate_and_save_images(model, epoch, step, test_input, vae_model):\n",
        "    \"\"\"Helper function to plot our 8 images\n",
        "\n",
        "    Args:\n",
        "\n",
        "    model -- the decoder model\n",
        "    epoch -- current epoch number during training\n",
        "    step -- current step number during training\n",
        "    test_input -- random tensor with shape (8, LATENT_DIM)\n",
        "    \"\"\"\n",
        "\n",
        "    # generate images from the test input\n",
        "    predictions = model.predict(test_input)\n",
        "\n",
        "    # plot the results\n",
        "    fig = plt.figure(figsize=(12, 14))\n",
        "\n",
        "    for i in range(predictions.shape[0]):\n",
        "        plt.subplot(8, 1, i + 1)\n",
        "        plt.imshow(predictions[i, :, :, 0], cmap='gray')\n",
        "        plt.axis('off')\n",
        "\n",
        "    fig.suptitle(\"epoch: {}, step: {}\".format(epoch, step))\n",
        "    plt.savefig('image_at_epoch_{:04d}_step{:04d}.png'.format(epoch, step))\n",
        "\n",
        "    if epoch != 0:\n",
        "        fig = plt.figure()\n",
        "        plt.scatter(range(len(vae_model.history.history['loss'])), \n",
        "                    vae_model.history.history['loss'])\n",
        "        plt.scatter(range(len(vae_model.history.history['val_loss'])), \n",
        "                    vae_model.history.history['val_loss'], color='red')\n",
        "        plt.savefig('Losses.png')\n",
        "    plt.show()\n",
        "\n",
        "\n",
        "def show_original_reconstructed_images(model, train_dataset):\n",
        "    plt.figure(figsize=(10, 14))\n",
        "    for input_images, _ in train_dataset.take(1):\n",
        "        reconstructed = model(input_images)\n",
        "        k = 0\n",
        "        for i in range(5):\n",
        "            #reconstructed_categorized = np.where(reconstructed >= 0.5, 1, 0)\n",
        "            plt.subplot(5, 2, k+1)\n",
        "            plt.imshow(np.squeeze(input_images[i]), cmap='gray')\n",
        "            plt.subplot(5, 2, k+2)\n",
        "            #plt.imshow(np.squeeze(reconstructed_categorized[i]), cmap='gray')\n",
        "            plt.imshow(np.squeeze(reconstructed[i]), cmap='gray')\n",
        "            k += 2\n",
        "        plt.savefig(\"reconstructed_images.png\")\n",
        "    plt.show()"
      ],
      "execution_count": 8,
      "outputs": []
    },
    {
      "cell_type": "markdown",
      "metadata": {
        "id": "wocZJyykAPaK"
      },
      "source": [
        "# Select the learning rate parameter for training"
      ]
    },
    {
      "cell_type": "code",
      "metadata": {
        "colab": {
          "base_uri": "https://localhost:8080/"
        },
        "id": "HwJjP5p7t7Ob",
        "outputId": "885e577e-efae-4387-e882-f35e5673cf7a"
      },
      "source": [
        "tf.keras.backend.clear_session()\n",
        "tf.random.set_seed(42)\n",
        "np.random.seed(42)\n",
        "\n",
        "# Create callback for adjusting learning rate during training\n",
        "# The learning rates will vary from 1e-6 to 0.01 over 100 epochs\n",
        "lr_schedule = tf.keras.callbacks.LearningRateScheduler(\n",
        "    lambda epoch: 1e-6 * 10**(epoch / 20))\n",
        "\n",
        "with strategy.scope():\n",
        "    # Get the encoder, decoder and 'master' model (called vae)\n",
        "    encoder, decoder, var_autoencoder = get_models(\n",
        "        input_shape=(IMAGE_HEIGHT, IMAGE_WIDTH, NUM_CHANNELS,), \n",
        "        latent_dim=LATENT_DIM)\n",
        "\n",
        "    # Instantiate VAE class\n",
        "    loss_metrics = tf.keras.metrics.Mean()\n",
        "    val_loss_metrics = tf.keras.metrics.Mean()\n",
        "    vae = VAE(encoder, decoder, var_autoencoder, loss_metrics, val_loss_metrics)\n",
        "\n",
        "    # Compile model\n",
        "    vae.compile(\n",
        "        optimizer = tf.keras.optimizers.Adam(lr=1e-6),\n",
        "        loss = tf.keras.losses.BinaryCrossentropy(\n",
        "            reduction = tf.keras.losses.Reduction.SUM\n",
        "        )\n",
        "    )\n",
        "\n",
        "# Training loop using original dataset\n",
        "history = vae.fit(train_dataset, epochs=100, verbose=1, callbacks=[lr_schedule])"
      ],
      "execution_count": null,
      "outputs": [
        {
          "output_type": "stream",
          "text": [
            "Epoch 1/100\n",
            "41/41 [==============================] - 15s 63ms/step - loss: 17329.9021\n",
            "Epoch 2/100\n",
            "41/41 [==============================] - 3s 64ms/step - loss: 17326.1453\n",
            "Epoch 3/100\n",
            "41/41 [==============================] - 3s 64ms/step - loss: 17322.2272\n",
            "Epoch 4/100\n",
            "41/41 [==============================] - 3s 64ms/step - loss: 17317.8548\n",
            "Epoch 5/100\n",
            "41/41 [==============================] - 3s 64ms/step - loss: 17312.8962\n",
            "Epoch 6/100\n",
            "41/41 [==============================] - 3s 64ms/step - loss: 17307.2234\n",
            "Epoch 7/100\n",
            "41/41 [==============================] - 3s 64ms/step - loss: 17300.6334\n",
            "Epoch 8/100\n",
            "41/41 [==============================] - 3s 64ms/step - loss: 17293.0109\n",
            "Epoch 9/100\n",
            "41/41 [==============================] - 3s 65ms/step - loss: 17284.0938\n",
            "Epoch 10/100\n",
            "41/41 [==============================] - 3s 64ms/step - loss: 17273.3318\n",
            "Epoch 11/100\n",
            "41/41 [==============================] - 3s 64ms/step - loss: 17260.2826\n",
            "Epoch 12/100\n",
            "41/41 [==============================] - 3s 65ms/step - loss: 17244.1089\n",
            "Epoch 13/100\n",
            "41/41 [==============================] - 3s 64ms/step - loss: 17222.6037\n",
            "Epoch 14/100\n",
            "41/41 [==============================] - 3s 64ms/step - loss: 17186.2812\n",
            "Epoch 15/100\n",
            "41/41 [==============================] - 3s 65ms/step - loss: 17097.2067\n",
            "Epoch 16/100\n",
            "41/41 [==============================] - 3s 64ms/step - loss: 16823.3834\n",
            "Epoch 17/100\n",
            "41/41 [==============================] - 3s 64ms/step - loss: 16214.5880\n",
            "Epoch 18/100\n",
            "41/41 [==============================] - 3s 65ms/step - loss: 15392.6095\n",
            "Epoch 19/100\n",
            "41/41 [==============================] - 3s 64ms/step - loss: 14943.8245\n",
            "Epoch 20/100\n",
            "41/41 [==============================] - 3s 65ms/step - loss: 14759.0916\n",
            "Epoch 21/100\n",
            "41/41 [==============================] - 3s 64ms/step - loss: 14624.6636\n",
            "Epoch 22/100\n",
            "41/41 [==============================] - 3s 65ms/step - loss: 14541.6510\n",
            "Epoch 23/100\n",
            "41/41 [==============================] - 3s 65ms/step - loss: 14469.9021\n",
            "Epoch 24/100\n",
            "41/41 [==============================] - 3s 65ms/step - loss: 14427.9522\n",
            "Epoch 25/100\n",
            "41/41 [==============================] - 3s 64ms/step - loss: 14402.0161\n",
            "Epoch 26/100\n",
            "41/41 [==============================] - 3s 65ms/step - loss: 14379.2518\n",
            "Epoch 27/100\n",
            "41/41 [==============================] - 3s 65ms/step - loss: 14361.2610\n",
            "Epoch 28/100\n",
            "41/41 [==============================] - 3s 64ms/step - loss: 14344.3071\n",
            "Epoch 29/100\n",
            "41/41 [==============================] - 3s 65ms/step - loss: 14310.7348\n",
            "Epoch 30/100\n",
            "41/41 [==============================] - 3s 65ms/step - loss: 14256.4066\n",
            "Epoch 31/100\n",
            "41/41 [==============================] - 3s 64ms/step - loss: 14178.7073\n",
            "Epoch 32/100\n",
            "41/41 [==============================] - 3s 64ms/step - loss: 14149.6560\n",
            "Epoch 33/100\n",
            "41/41 [==============================] - 3s 64ms/step - loss: 14118.0454\n",
            "Epoch 34/100\n",
            "41/41 [==============================] - 3s 64ms/step - loss: 14108.3122\n",
            "Epoch 35/100\n",
            "41/41 [==============================] - 3s 65ms/step - loss: 14098.0332\n",
            "Epoch 36/100\n",
            "41/41 [==============================] - 3s 65ms/step - loss: 14081.1472\n",
            "Epoch 37/100\n",
            "41/41 [==============================] - 3s 65ms/step - loss: 14072.8850\n",
            "Epoch 38/100\n",
            "41/41 [==============================] - 3s 64ms/step - loss: 14060.5459\n",
            "Epoch 39/100\n",
            "41/41 [==============================] - 3s 65ms/step - loss: 14050.2742\n",
            "Epoch 40/100\n",
            "41/41 [==============================] - 3s 65ms/step - loss: 14048.2347\n",
            "Epoch 41/100\n",
            "41/41 [==============================] - 3s 64ms/step - loss: 14032.4256\n",
            "Epoch 42/100\n",
            "41/41 [==============================] - 3s 64ms/step - loss: 14015.7777\n",
            "Epoch 43/100\n",
            "41/41 [==============================] - 3s 64ms/step - loss: 14006.4923\n",
            "Epoch 44/100\n",
            "41/41 [==============================] - 3s 64ms/step - loss: 14004.0864\n",
            "Epoch 45/100\n",
            "41/41 [==============================] - 3s 64ms/step - loss: 13983.6235\n",
            "Epoch 46/100\n",
            "41/41 [==============================] - 3s 64ms/step - loss: 13966.3376\n",
            "Epoch 47/100\n",
            "41/41 [==============================] - 3s 65ms/step - loss: 13938.9791\n",
            "Epoch 48/100\n",
            "41/41 [==============================] - 3s 64ms/step - loss: 13914.8634\n",
            "Epoch 49/100\n",
            "41/41 [==============================] - 3s 65ms/step - loss: 13898.8746\n",
            "Epoch 50/100\n",
            "41/41 [==============================] - 3s 65ms/step - loss: 13880.8042\n",
            "Epoch 51/100\n",
            "41/41 [==============================] - 3s 65ms/step - loss: 13851.7207\n",
            "Epoch 52/100\n",
            "41/41 [==============================] - 3s 65ms/step - loss: 13833.9473\n",
            "Epoch 53/100\n",
            "41/41 [==============================] - 3s 65ms/step - loss: 13811.9583\n",
            "Epoch 54/100\n",
            "41/41 [==============================] - 3s 65ms/step - loss: 13789.6829\n",
            "Epoch 55/100\n",
            "41/41 [==============================] - 3s 65ms/step - loss: 13773.3491\n",
            "Epoch 56/100\n",
            "41/41 [==============================] - 3s 65ms/step - loss: 13740.3737\n",
            "Epoch 57/100\n",
            "41/41 [==============================] - 3s 65ms/step - loss: 13726.3278\n",
            "Epoch 58/100\n",
            "41/41 [==============================] - 3s 64ms/step - loss: 13710.6872\n",
            "Epoch 59/100\n",
            "41/41 [==============================] - 3s 65ms/step - loss: 13689.8789\n",
            "Epoch 60/100\n",
            "41/41 [==============================] - 3s 65ms/step - loss: 13672.8472\n",
            "Epoch 61/100\n",
            "41/41 [==============================] - 3s 65ms/step - loss: 13671.2652\n",
            "Epoch 62/100\n",
            "41/41 [==============================] - 3s 65ms/step - loss: 13671.5722\n",
            "Epoch 63/100\n",
            "41/41 [==============================] - 3s 64ms/step - loss: 13656.1530\n",
            "Epoch 64/100\n",
            "41/41 [==============================] - 3s 65ms/step - loss: 13642.0736\n",
            "Epoch 65/100\n",
            "41/41 [==============================] - 3s 64ms/step - loss: 13639.4430\n",
            "Epoch 66/100\n",
            "41/41 [==============================] - 3s 65ms/step - loss: 13626.5258\n",
            "Epoch 67/100\n",
            "41/41 [==============================] - 3s 64ms/step - loss: 13612.1241\n",
            "Epoch 68/100\n",
            "41/41 [==============================] - 3s 65ms/step - loss: 13652.6181\n",
            "Epoch 69/100\n",
            "41/41 [==============================] - 3s 65ms/step - loss: 13628.3461\n",
            "Epoch 70/100\n",
            "41/41 [==============================] - 3s 65ms/step - loss: 13624.8880\n",
            "Epoch 71/100\n",
            "41/41 [==============================] - 3s 65ms/step - loss: 13602.7993\n",
            "Epoch 72/100\n",
            "41/41 [==============================] - 3s 65ms/step - loss: 13618.9057\n",
            "Epoch 73/100\n",
            "41/41 [==============================] - 3s 65ms/step - loss: 13628.4737\n",
            "Epoch 74/100\n",
            "41/41 [==============================] - 3s 65ms/step - loss: 13628.8506\n",
            "Epoch 75/100\n",
            "41/41 [==============================] - 3s 65ms/step - loss: 13616.6456\n",
            "Epoch 76/100\n",
            "41/41 [==============================] - 3s 66ms/step - loss: 13628.8114\n",
            "Epoch 77/100\n",
            "41/41 [==============================] - 3s 64ms/step - loss: 13630.6018\n",
            "Epoch 78/100\n",
            "41/41 [==============================] - 3s 65ms/step - loss: 13689.6307\n",
            "Epoch 79/100\n",
            "41/41 [==============================] - 3s 64ms/step - loss: nan\n",
            "Epoch 80/100\n",
            "41/41 [==============================] - 3s 65ms/step - loss: nan\n",
            "Epoch 81/100\n",
            "41/41 [==============================] - 3s 65ms/step - loss: nan\n",
            "Epoch 82/100\n",
            "41/41 [==============================] - 3s 66ms/step - loss: nan\n",
            "Epoch 83/100\n",
            "41/41 [==============================] - 3s 65ms/step - loss: nan\n",
            "Epoch 84/100\n",
            "41/41 [==============================] - 3s 65ms/step - loss: nan\n",
            "Epoch 85/100\n",
            "41/41 [==============================] - 3s 66ms/step - loss: nan\n",
            "Epoch 86/100\n",
            "41/41 [==============================] - 3s 65ms/step - loss: nan\n",
            "Epoch 87/100\n",
            "41/41 [==============================] - 3s 65ms/step - loss: nan\n",
            "Epoch 88/100\n",
            "41/41 [==============================] - 3s 65ms/step - loss: nan\n",
            "Epoch 89/100\n",
            "41/41 [==============================] - 3s 66ms/step - loss: nan\n",
            "Epoch 90/100\n",
            "41/41 [==============================] - 3s 66ms/step - loss: nan\n",
            "Epoch 91/100\n",
            "41/41 [==============================] - 3s 65ms/step - loss: nan\n",
            "Epoch 92/100\n",
            "41/41 [==============================] - 3s 65ms/step - loss: nan\n",
            "Epoch 93/100\n",
            "41/41 [==============================] - 3s 66ms/step - loss: nan\n",
            "Epoch 94/100\n",
            "41/41 [==============================] - 3s 65ms/step - loss: nan\n",
            "Epoch 95/100\n",
            "41/41 [==============================] - 3s 65ms/step - loss: nan\n",
            "Epoch 96/100\n",
            "41/41 [==============================] - 3s 65ms/step - loss: nan\n",
            "Epoch 97/100\n",
            "41/41 [==============================] - 3s 66ms/step - loss: nan\n",
            "Epoch 98/100\n",
            "41/41 [==============================] - 3s 65ms/step - loss: nan\n",
            "Epoch 99/100\n",
            "41/41 [==============================] - 3s 65ms/step - loss: nan\n",
            "Epoch 100/100\n",
            "41/41 [==============================] - 3s 65ms/step - loss: nan\n"
          ],
          "name": "stdout"
        }
      ]
    },
    {
      "cell_type": "code",
      "metadata": {
        "colab": {
          "base_uri": "https://localhost:8080/",
          "height": 290
        },
        "id": "6BSZVxR26H6D",
        "outputId": "97f25836-c608-4823-8df5-d41535002e3d"
      },
      "source": [
        "# Plot losses against learning rates\n",
        "plt.semilogx(vae.history.history['lr'], vae.history.history['loss'])\n",
        "plt.axis([1e-6, 0.01, 12500, 18000])"
      ],
      "execution_count": null,
      "outputs": [
        {
          "output_type": "execute_result",
          "data": {
            "text/plain": [
              "(1e-06, 0.01, 12500.0, 18000.0)"
            ]
          },
          "metadata": {
            "tags": []
          },
          "execution_count": 11
        },
        {
          "output_type": "display_data",
          "data": {
            "image/png": "[encoded data removed]",
            "text/plain": [
              "<Figure size 432x288 with 1 Axes>"
            ]
          },
          "metadata": {
            "tags": [],
            "needs_background": "light"
          }
        }
      ]
    },
    {
      "cell_type": "markdown",
      "metadata": {
        "id": "RmRCgmNuDl81"
      },
      "source": [
        "# Train the model\n"
      ]
    },
    {
      "cell_type": "code",
      "metadata": {
        "id": "ja8NQJWpInIp",
        "colab": {
          "base_uri": "https://localhost:8080/",
          "height": 88
        },
        "outputId": "e5ada17e-ecb6-4c21-d3b5-11a39bd05d8d"
      },
      "source": [
        "tf.keras.backend.clear_session()\n",
        "tf.random.set_seed(42)\n",
        "np.random.seed(42)\n",
        "\n",
        "# Create a callback that saves the model's weights every few epochs during \n",
        "# training\n",
        "save_locally = tf.saved_model.SaveOptions(experimental_io_device='/job:localhost')\n",
        "cp_callback = tf.keras.callbacks.ModelCheckpoint(\n",
        "    filepath = '.',\n",
        "    options = save_locally,\n",
        "    verbose = 1,\n",
        "    save_freq = math.ceil(NUM_EXAMPLES/BATCH_SIZE) * 40\n",
        ")\n",
        "\n",
        "# Create custom callback to display outputs (via helper function) at the end of \n",
        "# each epoch of training\n",
        "class CustomCallback(tf.keras.callbacks.Callback):\n",
        "    def on_epoch_end(self, epoch, logs=None):\n",
        "        keys = list(logs.keys())\n",
        "        # Generate random vector as test input to the decoder\n",
        "        random_vector_for_generation = tf.random.normal(shape=[8, LATENT_DIM])\n",
        "        # Generate and save images\n",
        "        print('End of epoch {} - mean loss = {}'.format(epoch, logs[keys[0]]))\n",
        "        display.clear_output(wait=True)\n",
        "        if epoch % 40 == 0:\n",
        "            generate_and_save_images(decoder, epoch, \n",
        "                                     math.ceil(NUM_EXAMPLES/BATCH_SIZE), \n",
        "                                     random_vector_for_generation, vae)\n",
        "with strategy.scope():\n",
        "    # Get the encoder, decoder and 'master' model (called vae)\n",
        "    encoder, decoder, var_autoencoder = get_models(\n",
        "        input_shape=(IMAGE_HEIGHT, IMAGE_WIDTH, NUM_CHANNELS,), \n",
        "        latent_dim=LATENT_DIM)\n",
        "\n",
        "    # Instantiate VAE class\n",
        "    loss_metrics = tf.keras.metrics.Mean()\n",
        "    val_loss_metrics = tf.keras.metrics.Mean()\n",
        "    vae = VAE(encoder, decoder, var_autoencoder, loss_metrics, val_loss_metrics)\n",
        "\n",
        "    # Compile model\n",
        "    vae.compile(\n",
        "        optimizer = tf.keras.optimizers.Adam(lr=8e-4),\n",
        "        loss = tf.keras.losses.BinaryCrossentropy(\n",
        "            reduction=tf.keras.losses.Reduction.SUM)\n",
        "        )\n",
        "\n",
        "# Generate random vector as test input to the decoder\n",
        "random_vector_for_generation = tf.random.normal(shape=[8, LATENT_DIM])\n",
        "\n",
        "# Initialize the helper function to display outputs from an untrained model\n",
        "generate_and_save_images(decoder, 0, 0, random_vector_for_generation, vae)\n",
        "\n",
        "# Training loop using original dataset\n",
        "history = vae.fit(x=train_dataset, epochs=EPOCHS, verbose=1, \n",
        "                  validation_data = val_dataset, \n",
        "                  callbacks=[CustomCallback()])     "
      ],
      "execution_count": null,
      "outputs": [
        {
          "output_type": "stream",
          "text": [
            "Epoch 575/1000\n",
            " 8/20 [===========>..................] - ETA: 0s - loss: 13024.9022"
          ],
          "name": "stdout"
        }
      ]
    },
    {
      "cell_type": "code",
      "metadata": {
        "colab": {
          "base_uri": "https://localhost:8080/",
          "height": 282
        },
        "id": "vMTLorbeoCNu",
        "outputId": "bef74928-e57c-4d83-d321-07f72da7039c"
      },
      "source": [
        "plt.scatter(range(len(vae.history.history['loss'])), vae.history.history['loss'])\n",
        "plt.scatter(range(len(vae.history.history['loss'])), vae.history.history['val_loss'], color='red')"
      ],
      "execution_count": null,
      "outputs": [
        {
          "output_type": "execute_result",
          "data": {
            "text/plain": [
              "<matplotlib.collections.PathCollection at 0x7ffa6a402310>"
            ]
          },
          "metadata": {
            "tags": []
          },
          "execution_count": 16
        },
        {
          "output_type": "display_data",
          "data": {
            "image/png": "[encoded data removed]",
            "text/plain": [
              "<Figure size 432x288 with 1 Axes>"
            ]
          },
          "metadata": {
            "tags": [],
            "needs_background": "light"
          }
        }
      ]
    },
    {
      "cell_type": "markdown",
      "metadata": {
        "id": "XQaP-dGpeptg"
      },
      "source": [
        "# Resume training if necessary"
      ]
    },
    {
      "cell_type": "code",
      "metadata": {
        "id": "ZBUrnwpMuCTv"
      },
      "source": [
        "# Get the encoder, decoder and 'master' model (called vae)\n",
        "encoder, decoder, var_autoencoder = get_models(\n",
        "    input_shape=(IMAGE_HEIGHT, IMAGE_WIDTH, NUM_CHANNELS,), \n",
        "    latent_dim=LATENT_DIM)\n",
        "\n",
        "# Create new instance of VAE class\n",
        "new_vae = VAE(encoder, decoder, var_autoencoder)\n",
        "\n",
        "# Load weights from last checkpoint saved\n",
        "checkpoint_dir = 'checkpoint'\n",
        "latest = tf.train.latest_checkpoint(checkpoint_dir)\n",
        "print(latest)\n"
      ],
      "execution_count": null,
      "outputs": []
    },
    {
      "cell_type": "code",
      "metadata": {
        "id": "7liWl_S9Wzzh"
      },
      "source": [
        "new_vae.load_weights(latest)\n",
        "new_vae.compile(\n",
        "    optimizer = tf.keras.optimizers.Adam(1e-4),\n",
        "    loss = tf.keras.losses.BinaryCrossentropy()\n",
        "    )"
      ],
      "execution_count": null,
      "outputs": []
    },
    {
      "cell_type": "code",
      "metadata": {
        "id": "qbi_f_RFvE3T"
      },
      "source": [
        "new_vae.evaluate(train_dataset, verbose=1)"
      ],
      "execution_count": null,
      "outputs": []
    },
    {
      "cell_type": "code",
      "metadata": {
        "id": "veT2g3x7u_0b"
      },
      "source": [
        "# Create a callback that saves the model's weights every few epochs during \n",
        "# training\n",
        "checkpoint_path = './cp-cp{epoch:04d}.ckpt'\n",
        "cp_callback = tf.keras.callbacks.ModelCheckpoint(\n",
        "    filepath = checkpoint_path,\n",
        "    verbose = 1,\n",
        "    save_weights_only = True,\n",
        "    save_freq = math.ceil(NUM_EXAMPLES/BATCH_SIZE) * 30\n",
        "    )\n",
        "\n",
        "# Create custom callback to display outputs (via helper function) at the end of \n",
        "# each epoch of training\n",
        "class CustomCallback(tf.keras.callbacks.Callback):\n",
        "    def on_epoch_end(self, epoch, logs=None):\n",
        "        keys = list(logs.keys())\n",
        "        # Generate random vector as test input to the decoder\n",
        "        random_vector_for_generation = tf.random.normal(shape=[8, LATENT_DIM])\n",
        "        # Generate and save images\n",
        "        display.clear_output(wait=True)\n",
        "        if epoch % 4 == 0:\n",
        "            generate_and_save_images(decoder, epoch, \n",
        "                                     math.ceil(NUM_EXAMPLES/BATCH_SIZE), \n",
        "                                     random_vector_for_generation, new_vae)\n",
        "        print('End of epoch {} - mean loss = {}'.format(epoch, logs[keys[0]]))\n",
        "\n",
        "# Resume training using original dataset\n",
        "new_vae.fit(x=train_dataset, epochs=EPOCHS, batch_size=BATCH_SIZE, verbose=1, \n",
        "            validation_data=val_dataset, \n",
        "            callbacks=[cp_callback, CustomCallback()])"
      ],
      "execution_count": null,
      "outputs": []
    },
    {
      "cell_type": "code",
      "metadata": {
        "id": "aXOSEpR5u9Nj"
      },
      "source": [
        "# Resume training using augmented dataset\n",
        "new_vae.fit(train_generator, epochs=1000, verbose=1, \n",
        "            callbacks=[cp_callback, CustomCallback()])"
      ],
      "execution_count": null,
      "outputs": []
    },
    {
      "cell_type": "markdown",
      "metadata": {
        "id": "HjmU7lube-CH"
      },
      "source": [
        "# Plot reconstructed images"
      ]
    },
    {
      "cell_type": "code",
      "metadata": {
        "colab": {
          "base_uri": "https://localhost:8080/",
          "height": 707
        },
        "id": "KVLen6k1uIJ-",
        "outputId": "a1ce1bda-0305-46db-f976-1e3d3f6c47f2"
      },
      "source": [
        "show_original_reconstructed_images(vae, val_dataset)"
      ],
      "execution_count": null,
      "outputs": [
        {
          "output_type": "display_data",
          "data": {
            "image/png": "[encoded data removed]",
            "text/plain": [
              "<Figure size 720x1008 with 10 Axes>"
            ]
          },
          "metadata": {
            "tags": [],
            "needs_background": "light"
          }
        }
      ]
    },
    {
      "cell_type": "markdown",
      "metadata": {
        "id": "Fg70OUfAgxj2"
      },
      "source": [
        "# Generate new images"
      ]
    },
    {
      "cell_type": "code",
      "metadata": {
        "id": "NNusaRuhg0Aa"
      },
      "source": [
        "# Generate random vector as test input to the decoder\n",
        "test_input = tf.random.normal(shape=[8, LATENT_DIM])\n",
        "\n",
        "# Generate images from the test input\n",
        "predictions = new_vae.decoder.predict(test_input)\n",
        "\n",
        "# plot the results\n",
        "fig = plt.figure(figsize=(12, 14))\n",
        "\n",
        "for i in range(predictions.shape[0]):\n",
        "    plt.subplot(8, 1, i + 1)\n",
        "    plt.imshow(predictions[i, :, :, 0], cmap='gray')\n",
        "    plt.axis('off')"
      ],
      "execution_count": null,
      "outputs": []
    }
  ]
}
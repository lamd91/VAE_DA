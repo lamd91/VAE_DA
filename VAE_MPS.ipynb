{
  "nbformat": 4,
  "nbformat_minor": 0,
  "metadata": {
    "colab": {
      "name": "VAE_MPS_2k.ipynb",
      "provenance": [],
      "collapsed_sections": [],
      "include_colab_link": true
    },
    "kernelspec": {
      "display_name": "Python 3",
      "name": "python3"
    },
    "language_info": {
      "name": "python"
    },
    "accelerator": "GPU"
  },
  "cells": [
    {
      "cell_type": "markdown",
      "metadata": {
        "id": "view-in-github",
        "colab_type": "text"
      },
      "source": [
        "<a href=\"https://colab.research.google.com/github/lamd91/VAE_DA/blob/master/VAE_MPS.ipynb\" target=\"_parent\"><img src=\"https://colab.research.google.com/assets/colab-badge.svg\" alt=\"Open In Colab\"/></a>"
      ]
    },
    {
      "cell_type": "code",
      "metadata": {
        "id": "c_8YcIzsMhdd",
        "colab": {
          "base_uri": "https://localhost:8080/"
        },
        "outputId": "5be1211e-30b4-4b0c-ecb9-0086d29af8d1"
      },
      "source": [
        "import pickle\n",
        "import numpy as np\n",
        "import tensorflow as tf\n",
        "from matplotlib import pyplot as plt\n",
        "import math\n",
        "import random\n",
        "from IPython import display\n",
        "import os\n",
        "import shutil\n",
        "from PIL import Image as im\n",
        "\n",
        "# Mount Google Drive at \"/content/gdrive\"\n",
        "from google.colab import drive\n",
        "drive.mount('/content/gdrive') \n",
        "\n",
        "# To ensure reproducibility of the split data process, set a seed value\n",
        "seed_value = 42\n",
        "os.environ['PYTHONHASHSEED']=str(seed_value)\n",
        "np.random.seed(seed_value)\n",
        "random.seed(seed_value)"
      ],
      "execution_count": 1,
      "outputs": [
        {
          "output_type": "stream",
          "text": [
            "Mounted at /content/gdrive\n"
          ],
          "name": "stdout"
        }
      ]
    },
    {
      "cell_type": "markdown",
      "metadata": {
        "id": "2vbMSVpOr8oS"
      },
      "source": [
        "After having uploaded `mps_simulations.tar.gz` located in the \"data\" folder of the github repository, extract the folder content here in Colab. The extracted files will be located in a directory named `images`."
      ]
    },
    {
      "cell_type": "code",
      "metadata": {
        "id": "YbWdJwWQHnwc"
      },
      "source": [
        "!tar -xf \"/content/gdrive/My Drive/mps_simulations.tar.gz\" \n",
        "!rm -r images/.ipynb_checkpoints\n"
      ],
      "execution_count": 2,
      "outputs": []
    },
    {
      "cell_type": "code",
      "metadata": {
        "colab": {
          "base_uri": "https://localhost:8080/",
          "height": 102
        },
        "id": "i-JwifzONA43",
        "outputId": "fad8c595-2b75-447e-bf0a-a48887f68253"
      },
      "source": [
        "# Show one example of MPS simulation that will be used for training\n",
        "i = random.randint(0, 1999)\n",
        "image = pickle.load(open(f'images/img-{i}.pickle', 'rb')).astype('uint8')\n",
        "plt.imshow(image)"
      ],
      "execution_count": 3,
      "outputs": [
        {
          "output_type": "execute_result",
          "data": {
            "text/plain": [
              "<matplotlib.image.AxesImage at 0x7fef1d1b1650>"
            ]
          },
          "metadata": {
            "tags": []
          },
          "execution_count": 3
        },
        {
          "output_type": "display_data",
          "data": {
            "image/png": "[encoded data removed]",
            "text/plain": [
              "<Figure size 432x288 with 1 Axes>"
            ]
          },
          "metadata": {
            "tags": [],
            "needs_background": "light"
          }
        }
      ]
    },
    {
      "cell_type": "code",
      "metadata": {
        "id": "nejBn076s2So",
        "colab": {
          "base_uri": "https://localhost:8080/"
        },
        "outputId": "85319457-200e-40ca-8ffa-6b6a7c36cb36"
      },
      "source": [
        "# Define global constants\n",
        "BATCH_SIZE = 64\n",
        "LATENT_DIM = 2\n",
        "EPOCHS = 500  # set to a number so as to not exceed RAM\n",
        "IMAGE_HEIGHT = 50\n",
        "IMAGE_WIDTH = 500\n",
        "NUM_CHANNELS = 1\n",
        "TEST_SIZE = 0.2\n",
        "SOURCE_DIR = 'images'\n",
        "TRAINING_DIR = 'training_images'\n",
        "TESTING_DIR = 'testing_images' \n",
        "\n",
        "# Other variables\n",
        "num_examples = len(os.listdir(SOURCE_DIR))\n",
        "print(\"Number of examples:\", num_examples)"
      ],
      "execution_count": 4,
      "outputs": [
        {
          "output_type": "stream",
          "text": [
            "Number of examples: 2000\n"
          ],
          "name": "stdout"
        }
      ]
    },
    {
      "cell_type": "code",
      "metadata": {
        "colab": {
          "base_uri": "https://localhost:8080/"
        },
        "id": "QnpkAe-kSpO2",
        "outputId": "b5a5f15e-5064-433f-d60f-5e02fd49aa87"
      },
      "source": [
        "def split_data(SOURCE, TRAINING, TESTING, SPLIT_SIZE):\n",
        "    \"\"\"Split images into training and testing directories\"\"\"\n",
        "\n",
        "    image_filenames = os.listdir(SOURCE)\n",
        "    print(image_filenames)\n",
        "    num_examples = len(image_filenames)\n",
        "    if not os.path.exists(os.path.join(TRAINING, 'input_images')):\n",
        "        os.makedirs(os.path.join(TRAINING, 'input_images'))\n",
        "    if not os.path.exists(os.path.join(TESTING, 'input_images')):\n",
        "        os.makedirs(os.path.join(TESTING, 'input_images'))\n",
        "\n",
        "    count = 0\n",
        "    num_training_examples = int(num_examples * (1-SPLIT_SIZE))\n",
        "    shuffled_indices = random.sample(range(num_examples), num_examples)\n",
        "    for i in shuffled_indices:\n",
        "        src = os.path.join(SOURCE, image_filenames[i])\n",
        "        if os.path.getsize(src) != 0:\n",
        "            if count < num_training_examples:\n",
        "                array = pickle.load(open(src, 'rb'))\n",
        "                img = im.fromarray(array.astype('uint8')*255, 'L')\n",
        "                img.save(os.path.join(TRAINING, 'input_images', image_filenames[i].replace('.pickle', '')) + '.png')\n",
        "            else:\n",
        "                array = pickle.load(open(src, 'rb'))\n",
        "                img = im.fromarray(array.astype('uint8')*255, 'L')\n",
        "                img.save(os.path.join(TESTING, 'input_images', image_filenames[i].replace('.pickle', '')) + '.png')\n",
        "            count += 1\n",
        "            \n",
        "    with open(\"random_indices.pkl\", \"wb\") as f:\n",
        "        pickle.dump(shuffled_indices, f)\n",
        "    print(\"Number of training examples:\", int(len(os.listdir(os.path.join(TRAINING, 'input_images')))))\n",
        "    print(\"Number of validation examples:\", int(len(os.listdir(os.path.join(TESTING, 'input_images')))))\n",
        "\n",
        "split_data(SOURCE_DIR, TRAINING_DIR, TESTING_DIR, TEST_SIZE)"
      ],
      "execution_count": 5,
      "outputs": [
        {
          "output_type": "stream",
          "text": [
            "['img-1603.pickle', 'img-1848.pickle', 'img-151.pickle', 'img-515.pickle', 'img-1605.pickle', 'img-15.pickle', 'img-1756.pickle', 'img-1305.pickle', 'img-1701.pickle', 'img-352.pickle', 'img-563.pickle', 'img-1152.pickle', 'img-106.pickle', 'img-1652.pickle', 'img-1018.pickle', 'img-1195.pickle', 'img-377.pickle', 'img-1921.pickle', 'img-1247.pickle', 'img-54.pickle', 'img-353.pickle', 'img-782.pickle', 'img-1298.pickle', 'img-970.pickle', 'img-1938.pickle', 'img-716.pickle', 'img-896.pickle', 'img-1000.pickle', 'img-298.pickle', 'img-1475.pickle', 'img-800.pickle', 'img-1104.pickle', 'img-615.pickle', 'img-1859.pickle', 'img-1760.pickle', 'img-1328.pickle', 'img-629.pickle', 'img-1479.pickle', 'img-566.pickle', 'img-1212.pickle', 'img-1020.pickle', 'img-1354.pickle', 'img-1301.pickle', 'img-440.pickle', 'img-1034.pickle', 'img-934.pickle', 'img-817.pickle', 'img-887.pickle', 'img-296.pickle', 'img-1869.pickle', 'img-902.pickle', 'img-851.pickle', 'img-465.pickle', 'img-264.pickle', 'img-955.pickle', 'img-1683.pickle', 'img-861.pickle', 'img-460.pickle', 'img-1757.pickle', 'img-1227.pickle', 'img-960.pickle', 'img-940.pickle', 'img-978.pickle', 'img-1867.pickle', 'img-270.pickle', 'img-548.pickle', 'img-1058.pickle', 'img-147.pickle', 'img-1124.pickle', 'img-207.pickle', 'img-1764.pickle', 'img-1971.pickle', 'img-1285.pickle', 'img-1468.pickle', 'img-1547.pickle', 'img-726.pickle', 'img-220.pickle', 'img-1434.pickle', 'img-816.pickle', 'img-1699.pickle', 'img-223.pickle', 'img-1508.pickle', 'img-689.pickle', 'img-1498.pickle', 'img-1715.pickle', 'img-1556.pickle', 'img-551.pickle', 'img-1282.pickle', 'img-1619.pickle', 'img-1375.pickle', 'img-221.pickle', 'img-1769.pickle', 'img-691.pickle', 'img-911.pickle', 'img-1754.pickle', 'img-234.pickle', 'img-1582.pickle', 'img-1277.pickle', 'img-803.pickle', 'img-684.pickle', 'img-672.pickle', 'img-202.pickle', 'img-1451.pickle', 'img-1373.pickle', 'img-1849.pickle', 'img-1057.pickle', 'img-775.pickle', 'img-764.pickle', 'img-259.pickle', 'img-1250.pickle', 'img-1411.pickle', 'img-280.pickle', 'img-903.pickle', 'img-892.pickle', 'img-1081.pickle', 'img-380.pickle', 'img-1355.pickle', 'img-439.pickle', 'img-1215.pickle', 'img-267.pickle', 'img-1386.pickle', 'img-1908.pickle', 'img-1497.pickle', 'img-218.pickle', 'img-1740.pickle', 'img-1112.pickle', 'img-1981.pickle', 'img-1350.pickle', 'img-1454.pickle', 'img-910.pickle', 'img-809.pickle', 'img-655.pickle', 'img-1910.pickle', 'img-497.pickle', 'img-677.pickle', 'img-248.pickle', 'img-1897.pickle', 'img-701.pickle', 'img-1899.pickle', 'img-990.pickle', 'img-818.pickle', 'img-157.pickle', 'img-40.pickle', 'img-1204.pickle', 'img-1179.pickle', 'img-1060.pickle', 'img-1607.pickle', 'img-1072.pickle', 'img-1486.pickle', 'img-908.pickle', 'img-1898.pickle', 'img-371.pickle', 'img-741.pickle', 'img-687.pickle', 'img-1470.pickle', 'img-823.pickle', 'img-1967.pickle', 'img-136.pickle', 'img-457.pickle', 'img-1461.pickle', 'img-1886.pickle', 'img-541.pickle', 'img-1230.pickle', 'img-1634.pickle', 'img-1545.pickle', 'img-1500.pickle', 'img-27.pickle', 'img-445.pickle', 'img-1578.pickle', 'img-606.pickle', 'img-330.pickle', 'img-1019.pickle', 'img-1768.pickle', 'img-378.pickle', 'img-699.pickle', 'img-346.pickle', 'img-614.pickle', 'img-735.pickle', 'img-1270.pickle', 'img-1940.pickle', 'img-577.pickle', 'img-594.pickle', 'img-1040.pickle', 'img-128.pickle', 'img-1438.pickle', 'img-1379.pickle', 'img-403.pickle', 'img-1213.pickle', 'img-1493.pickle', 'img-1608.pickle', 'img-1178.pickle', 'img-312.pickle', 'img-122.pickle', 'img-486.pickle', 'img-854.pickle', 'img-1688.pickle', 'img-567.pickle', 'img-572.pickle', 'img-1223.pickle', 'img-1255.pickle', 'img-700.pickle', 'img-1527.pickle', 'img-82.pickle', 'img-1745.pickle', 'img-511.pickle', 'img-359.pickle', 'img-1901.pickle', 'img-1116.pickle', 'img-1537.pickle', 'img-683.pickle', 'img-1911.pickle', 'img-229.pickle', 'img-932.pickle', 'img-755.pickle', 'img-391.pickle', 'img-4.pickle', 'img-1583.pickle', 'img-237.pickle', 'img-7.pickle', 'img-415.pickle', 'img-914.pickle', 'img-1570.pickle', 'img-1854.pickle', 'img-277.pickle', 'img-1358.pickle', 'img-1727.pickle', 'img-747.pickle', 'img-866.pickle', 'img-1488.pickle', 'img-1401.pickle', 'img-1734.pickle', 'img-3.pickle', 'img-1326.pickle', 'img-1816.pickle', 'img-443.pickle', 'img-1229.pickle', 'img-446.pickle', 'img-1054.pickle', 'img-1202.pickle', 'img-1024.pickle', 'img-583.pickle', 'img-99.pickle', 'img-1980.pickle', 'img-1788.pickle', 'img-925.pickle', 'img-1263.pickle', 'img-1319.pickle', 'img-1456.pickle', 'img-1648.pickle', 'img-570.pickle', 'img-1964.pickle', 'img-322.pickle', 'img-200.pickle', 'img-1339.pickle', 'img-175.pickle', 'img-1368.pickle', 'img-1394.pickle', 'img-1655.pickle', 'img-1443.pickle', 'img-1469.pickle', 'img-1892.pickle', 'img-1235.pickle', 'img-239.pickle', 'img-977.pickle', 'img-1050.pickle', 'img-626.pickle', 'img-543.pickle', 'img-8.pickle', 'img-1550.pickle', 'img-197.pickle', 'img-1310.pickle', 'img-1516.pickle', 'img-155.pickle', 'img-640.pickle', 'img-418.pickle', 'img-1966.pickle', 'img-1949.pickle', 'img-1988.pickle', 'img-1799.pickle', 'img-1459.pickle', 'img-587.pickle', 'img-1548.pickle', 'img-143.pickle', 'img-979.pickle', 'img-372.pickle', 'img-244.pickle', 'img-609.pickle', 'img-1945.pickle', 'img-1937.pickle', 'img-412.pickle', 'img-462.pickle', 'img-1593.pickle', 'img-399.pickle', 'img-137.pickle', 'img-1535.pickle', 'img-414.pickle', 'img-1335.pickle', 'img-1692.pickle', 'img-520.pickle', 'img-410.pickle', 'img-381.pickle', 'img-1420.pickle', 'img-982.pickle', 'img-369.pickle', 'img-1975.pickle', 'img-1540.pickle', 'img-458.pickle', 'img-304.pickle', 'img-1846.pickle', 'img-1292.pickle', 'img-308.pickle', 'img-1117.pickle', 'img-185.pickle', 'img-658.pickle', 'img-1955.pickle', 'img-409.pickle', 'img-1501.pickle', 'img-1524.pickle', 'img-1513.pickle', 'img-1933.pickle', 'img-779.pickle', 'img-81.pickle', 'img-1499.pickle', 'img-857.pickle', 'img-1293.pickle', 'img-1678.pickle', 'img-536.pickle', 'img-1426.pickle', 'img-1594.pickle', 'img-506.pickle', 'img-565.pickle', 'img-148.pickle', 'img-1159.pickle', 'img-1201.pickle', 'img-290.pickle', 'img-20.pickle', 'img-1095.pickle', 'img-661.pickle', 'img-1405.pickle', 'img-895.pickle', 'img-238.pickle', 'img-646.pickle', 'img-1514.pickle', 'img-397.pickle', 'img-1269.pickle', 'img-314.pickle', 'img-113.pickle', 'img-953.pickle', 'img-1704.pickle', 'img-574.pickle', 'img-844.pickle', 'img-1080.pickle', 'img-919.pickle', 'img-987.pickle', 'img-928.pickle', 'img-85.pickle', 'img-1750.pickle', 'img-907.pickle', 'img-350.pickle', 'img-1132.pickle', 'img-1771.pickle', 'img-727.pickle', 'img-835.pickle', 'img-1198.pickle', 'img-408.pickle', 'img-1590.pickle', 'img-1416.pickle', 'img-942.pickle', 'img-1995.pickle', 'img-675.pickle', 'img-1017.pickle', 'img-1551.pickle', 'img-985.pickle', 'img-1006.pickle', 'img-396.pickle', 'img-1895.pickle', 'img-125.pickle', 'img-1569.pickle', 'img-355.pickle', 'img-74.pickle', 'img-796.pickle', 'img-1153.pickle', 'img-745.pickle', 'img-1061.pickle', 'img-1852.pickle', 'img-660.pickle', 'img-1297.pickle', 'img-1643.pickle', 'img-523.pickle', 'img-42.pickle', 'img-1813.pickle', 'img-1997.pickle', 'img-1987.pickle', 'img-1146.pickle', 'img-1960.pickle', 'img-576.pickle', 'img-1584.pickle', 'img-1177.pickle', 'img-1349.pickle', 'img-165.pickle', 'img-484.pickle', 'img-269.pickle', 'img-1218.pickle', 'img-1490.pickle', 'img-516.pickle', 'img-493.pickle', 'img-191.pickle', 'img-1506.pickle', 'img-1622.pickle', 'img-1673.pickle', 'img-1449.pickle', 'img-1414.pickle', 'img-1687.pickle', 'img-339.pickle', 'img-703.pickle', 'img-848.pickle', 'img-159.pickle', 'img-320.pickle', 'img-604.pickle', 'img-807.pickle', 'img-1037.pickle', 'img-166.pickle', 'img-173.pickle', 'img-927.pickle', 'img-1384.pickle', 'img-1156.pickle', 'img-1998.pickle', 'img-281.pickle', 'img-772.pickle', 'img-1404.pickle', 'img-1635.pickle', 'img-334.pickle', 'img-1855.pickle', 'img-1726.pickle', 'img-22.pickle', 'img-850.pickle', 'img-134.pickle', 'img-464.pickle', 'img-153.pickle', 'img-487.pickle', 'img-1111.pickle', 'img-891.pickle', 'img-129.pickle', 'img-123.pickle', 'img-1601.pickle', 'img-1343.pickle', 'img-1802.pickle', 'img-1618.pickle', 'img-1417.pickle', 'img-1244.pickle', 'img-1251.pickle', 'img-1211.pickle', 'img-1127.pickle', 'img-1649.pickle', 'img-1325.pickle', 'img-444.pickle', 'img-120.pickle', 'img-1974.pickle', 'img-1336.pickle', 'img-1982.pickle', 'img-405.pickle', 'img-73.pickle', 'img-50.pickle', 'img-558.pickle', 'img-1881.pickle', 'img-969.pickle', 'img-205.pickle', 'img-183.pickle', 'img-957.pickle', 'img-1367.pickle', 'img-1658.pickle', 'img-469.pickle', 'img-1786.pickle', 'img-495.pickle', 'img-657.pickle', 'img-1862.pickle', 'img-678.pickle', 'img-1976.pickle', 'img-530.pickle', 'img-1502.pickle', 'img-1421.pickle', 'img-345.pickle', 'img-1742.pickle', 'img-999.pickle', 'img-1170.pickle', 'img-1378.pickle', 'img-1902.pickle', 'img-1904.pickle', 'img-1094.pickle', 'img-172.pickle', 'img-1042.pickle', 'img-712.pickle', 'img-760.pickle', 'img-1246.pickle', 'img-57.pickle', 'img-2.pickle', 'img-785.pickle', 'img-1258.pickle', 'img-105.pickle', 'img-1032.pickle', 'img-69.pickle', 'img-623.pickle', 'img-325.pickle', 'img-1186.pickle', 'img-1716.pickle', 'img-1059.pickle', 'img-761.pickle', 'img-1833.pickle', 'img-139.pickle', 'img-528.pickle', 'img-1346.pickle', 'img-1935.pickle', 'img-441.pickle', 'img-1544.pickle', 'img-1644.pickle', 'img-1166.pickle', 'img-1463.pickle', 'img-607.pickle', 'img-1737.pickle', 'img-913.pickle', 'img-294.pickle', 'img-1807.pickle', 'img-708.pickle', 'img-591.pickle', 'img-436.pickle', 'img-227.pickle', 'img-53.pickle', 'img-838.pickle', 'img-1294.pickle', 'img-1472.pickle', 'img-431.pickle', 'img-480.pickle', 'img-1228.pickle', 'img-1815.pickle', 'img-131.pickle', 'img-144.pickle', 'img-1135.pickle', 'img-421.pickle', 'img-502.pickle', 'img-1441.pickle', 'img-1820.pickle', 'img-1600.pickle', 'img-1923.pickle', 'img-1830.pickle', 'img-1137.pickle', 'img-251.pickle', 'img-1662.pickle', 'img-1309.pickle', 'img-117.pickle', 'img-1376.pickle', 'img-1561.pickle', 'img-1337.pickle', 'img-1956.pickle', 'img-839.pickle', 'img-1728.pickle', 'img-1746.pickle', 'img-1447.pickle', 'img-1929.pickle', 'img-1327.pickle', 'img-472.pickle', 'img-438.pickle', 'img-1796.pickle', 'img-1119.pickle', 'img-1510.pickle', 'img-725.pickle', 'img-1969.pickle', 'img-1161.pickle', 'img-395.pickle', 'img-877.pickle', 'img-86.pickle', 'img-1237.pickle', 'img-182.pickle', 'img-489.pickle', 'img-1591.pickle', 'img-1236.pickle', 'img-1047.pickle', 'img-323.pickle', 'img-971.pickle', 'img-946.pickle', 'img-571.pickle', 'img-1809.pickle', 'img-554.pickle', 'img-154.pickle', 'img-634.pickle', 'img-1694.pickle', 'img-127.pickle', 'img-552.pickle', 'img-490.pickle', 'img-1145.pickle', 'img-1690.pickle', 'img-1782.pickle', 'img-654.pickle', 'img-811.pickle', 'img-1677.pickle', 'img-289.pickle', 'img-283.pickle', 'img-698.pickle', 'img-1563.pickle', 'img-1599.pickle', 'img-14.pickle', 'img-1005.pickle', 'img-774.pickle', 'img-1448.pickle', 'img-723.pickle', 'img-1181.pickle', 'img-384.pickle', 'img-1783.pickle', 'img-1338.pickle', 'img-1915.pickle', 'img-1484.pickle', 'img-1860.pickle', 'img-963.pickle', 'img-23.pickle', 'img-1695.pickle', 'img-1994.pickle', 'img-1440.pickle', 'img-455.pickle', 'img-1039.pickle', 'img-1534.pickle', 'img-288.pickle', 'img-1762.pickle', 'img-1099.pickle', 'img-19.pickle', 'img-262.pickle', 'img-1653.pickle', 'img-608.pickle', 'img-132.pickle', 'img-482.pickle', 'img-1521.pickle', 'img-707.pickle', 'img-1866.pickle', 'img-860.pickle', 'img-315.pickle', 'img-1512.pickle', 'img-1221.pickle', 'img-869.pickle', 'img-1231.pickle', 'img-297.pickle', 'img-1427.pickle', 'img-1446.pickle', 'img-1659.pickle', 'img-60.pickle', 'img-1681.pickle', 'img-1710.pickle', 'img-1825.pickle', 'img-752.pickle', 'img-557.pickle', 'img-1839.pickle', 'img-578.pickle', 'img-806.pickle', 'img-1041.pickle', 'img-1044.pickle', 'img-1878.pickle', 'img-1927.pickle', 'img-929.pickle', 'img-1611.pickle', 'img-1074.pickle', 'img-550.pickle', 'img-432.pickle', 'img-529.pickle', 'img-789.pickle', 'img-531.pickle', 'img-697.pickle', 'img-1763.pickle', 'img-92.pickle', 'img-814.pickle', 'img-1036.pickle', 'img-1348.pickle', 'img-1645.pickle', 'img-923.pickle', 'img-1888.pickle', 'img-788.pickle', 'img-1026.pickle', 'img-1260.pickle', 'img-16.pickle', 'img-656.pickle', 'img-1689.pickle', 'img-1356.pickle', 'img-1190.pickle', 'img-1002.pickle', 'img-744.pickle', 'img-1970.pickle', 'img-1408.pickle', 'img-398.pickle', 'img-945.pickle', 'img-72.pickle', 'img-335.pickle', 'img-1473.pickle', 'img-1759.pickle', 'img-721.pickle', 'img-263.pickle', 'img-1529.pickle', 'img-149.pickle', 'img-351.pickle', 'img-901.pickle', 'img-517.pickle', 'img-579.pickle', 'img-711.pickle', 'img-1091.pickle', 'img-41.pickle', 'img-986.pickle', 'img-631.pickle', 'img-618.pickle', 'img-959.pickle', 'img-733.pickle', 'img-1947.pickle', 'img-1640.pickle', 'img-1577.pickle', 'img-1991.pickle', 'img-544.pickle', 'img-1810.pickle', 'img-1481.pickle', 'img-749.pickle', 'img-798.pickle', 'img-768.pickle', 'img-1193.pickle', 'img-1423.pickle', 'img-1778.pickle', 'img-1409.pickle', 'img-435.pickle', 'img-1735.pickle', 'img-387.pickle', 'img-232.pickle', 'img-899.pickle', 'img-958.pickle', 'img-787.pickle', 'img-507.pickle', 'img-1321.pickle', 'img-1717.pickle', 'img-1182.pickle', 'img-243.pickle', 'img-1363.pickle', 'img-52.pickle', 'img-1973.pickle', 'img-1013.pickle', 'img-837.pickle', 'img-1853.pickle', 'img-366.pickle', 'img-1523.pickle', 'img-174.pickle', 'img-1290.pickle', 'img-1573.pickle', 'img-163.pickle', 'img-920.pickle', 'img-164.pickle', 'img-1210.pickle', 'img-1808.pickle', 'img-448.pickle', 'img-1666.pickle', 'img-1592.pickle', 'img-968.pickle', 'img-956.pickle', 'img-1252.pickle', 'img-28.pickle', 'img-1439.pickle', 'img-1511.pickle', 'img-1341.pickle', 'img-1403.pickle', 'img-510.pickle', 'img-1371.pickle', 'img-1800.pickle', 'img-116.pickle', 'img-906.pickle', 'img-783.pickle', 'img-1075.pickle', 'img-532.pickle', 'img-1154.pickle', 'img-652.pickle', 'img-311.pickle', 'img-881.pickle', 'img-1311.pickle', 'img-547.pickle', 'img-1553.pickle', 'img-1555.pickle', 'img-111.pickle', 'img-411.pickle', 'img-1494.pickle', 'img-1518.pickle', 'img-1278.pickle', 'img-975.pickle', 'img-1055.pickle', 'img-64.pickle', 'img-466.pickle', 'img-533.pickle', 'img-188.pickle', 'img-829.pickle', 'img-429.pickle', 'img-695.pickle', 'img-545.pickle', 'img-1051.pickle', 'img-1554.pickle', 'img-6.pickle', 'img-686.pickle', 'img-434.pickle', 'img-802.pickle', 'img-1046.pickle', 'img-746.pickle', 'img-1492.pickle', 'img-430.pickle', 'img-1961.pickle', 'img-206.pickle', 'img-1176.pickle', 'img-862.pickle', 'img-1631.pickle', 'img-417.pickle', 'img-518.pickle', 'img-1629.pickle', 'img-1596.pickle', 'img-1943.pickle', 'img-512.pickle', 'img-1192.pickle', 'img-89.pickle', 'img-115.pickle', 'img-1256.pickle', 'img-1220.pickle', 'img-370.pickle', 'img-1957.pickle', 'img-437.pickle', 'img-898.pickle', 'img-1425.pickle', 'img-379.pickle', 'img-821.pickle', 'img-950.pickle', 'img-586.pickle', 'img-101.pickle', 'img-1141.pickle', 'img-889.pickle', 'img-617.pickle', 'img-145.pickle', 'img-992.pickle', 'img-319.pickle', 'img-1003.pickle', 'img-1128.pickle', 'img-1432.pickle', 'img-611.pickle', 'img-1140.pickle', 'img-1916.pickle', 'img-45.pickle', 'img-1650.pickle', 'img-582.pickle', 'img-344.pickle', 'img-635.pickle', 'img-456.pickle', 'img-679.pickle', 'img-1630.pickle', 'img-843.pickle', 'img-1214.pickle', 'img-62.pickle', 'img-1203.pickle', 'img-668.pickle', 'img-1129.pickle', 'img-1543.pickle', 'img-1273.pickle', 'img-1812.pickle', 'img-1035.pickle', 'img-845.pickle', 'img-717.pickle', 'img-1299.pickle', 'img-1107.pickle', 'img-886.pickle', 'img-1122.pickle', 'img-358.pickle', 'img-904.pickle', 'img-719.pickle', 'img-1106.pickle', 'img-249.pickle', 'img-820.pickle', 'img-750.pickle', 'img-505.pickle', 'img-1467.pickle', 'img-483.pickle', 'img-759.pickle', 'img-965.pickle', 'img-499.pickle', 'img-77.pickle', 'img-1822.pickle', 'img-1012.pickle', 'img-1238.pickle', 'img-225.pickle', 'img-1031.pickle', 'img-519.pickle', 'img-1028.pickle', 'img-1233.pickle', 'img-1474.pickle', 'img-212.pickle', 'img-1452.pickle', 'img-1703.pickle', 'img-256.pickle', 'img-874.pickle', 'img-1194.pickle', 'img-1944.pickle', 'img-51.pickle', 'img-477.pickle', 'img-1382.pickle', 'img-328.pickle', 'img-1359.pickle', 'img-1709.pickle', 'img-1276.pickle', 'img-1418.pickle', 'img-815.pickle', 'img-781.pickle', 'img-1877.pickle', 'img-690.pickle', 'img-1549.pickle', 'img-192.pickle', 'img-537.pickle', 'img-627.pickle', 'img-402.pickle', 'img-1829.pickle', 'img-813.pickle', 'img-539.pickle', 'img-592.pickle', 'img-1924.pickle', 'img-109.pickle', 'img-1835.pickle', 'img-1536.pickle', 'img-1173.pickle', 'img-1064.pickle', 'img-481.pickle', 'img-1875.pickle', 'img-1706.pickle', 'img-1965.pickle', 'img-1090.pickle', 'img-1442.pickle', 'img-671.pickle', 'img-199.pickle', 'img-1664.pickle', 'img-1612.pickle', 'img-253.pickle', 'img-1907.pickle', 'img-362.pickle', 'img-1430.pickle', 'img-612.pickle', 'img-1342.pickle', 'img-1936.pickle', 'img-1283.pickle', 'img-1245.pickle', 'img-1595.pickle', 'img-1505.pickle', 'img-756.pickle', 'img-1455.pickle', 'img-610.pickle', 'img-1257.pickle', 'img-94.pickle', 'img-160.pickle', 'img-1780.pickle', 'img-1158.pickle', 'img-286.pickle', 'img-1657.pickle', 'img-1009.pickle', 'img-18.pickle', 'img-1856.pickle', 'img-96.pickle', 'img-1713.pickle', 'img-597.pickle', 'img-31.pickle', 'img-1993.pickle', 'img-326.pickle', 'img-1837.pickle', 'img-542.pickle', 'img-1597.pickle', 'img-1841.pickle', 'img-812.pickle', 'img-291.pickle', 'img-1893.pickle', 'img-301.pickle', 'img-1826.pickle', 'img-102.pickle', 'img-1522.pickle', 'img-884.pickle', 'img-1413.pickle', 'img-135.pickle', 'img-1983.pickle', 'img-1889.pickle', 'img-1850.pickle', 'img-527.pickle', 'img-1280.pickle', 'img-865.pickle', 'img-1604.pickle', 'img-1196.pickle', 'img-769.pickle', 'img-1614.pickle', 'img-190.pickle', 'img-1602.pickle', 'img-110.pickle', 'img-602.pickle', 'img-1951.pickle', 'img-588.pickle', 'img-1136.pickle', 'img-374.pickle', 'img-1871.pickle', 'img-1048.pickle', 'img-130.pickle', 'img-1171.pickle', 'img-1093.pickle', 'img-386.pickle', 'img-720.pickle', 'img-994.pickle', 'img-467.pickle', 'img-1331.pickle', 'img-1541.pickle', 'img-1300.pickle', 'img-215.pickle', 'img-790.pickle', 'img-1089.pickle', 'img-1566.pickle', 'img-967.pickle', 'img-1240.pickle', 'img-274.pickle', 'img-295.pickle', 'img-589.pickle', 'img-1919.pickle', 'img-279.pickle', 'img-1574.pickle', 'img-834.pickle', 'img-333.pickle', 'img-1165.pickle', 'img-1733.pickle', 'img-452.pickle', 'img-32.pickle', 'img-1330.pickle', 'img-1123.pickle', 'img-722.pickle', 'img-273.pickle', 'img-1990.pickle', 'img-728.pickle', 'img-1435.pickle', 'img-931.pickle', 'img-1082.pickle', 'img-1103.pickle', 'img-425.pickle', 'img-1149.pickle', 'img-1043.pickle', 'img-1863.pickle', 'img-492.pickle', 'img-1271.pickle', 'img-1918.pickle', 'img-989.pickle', 'img-1457.pickle', 'img-1616.pickle', 'img-84.pickle', 'img-555.pickle', 'img-450.pickle', 'img-930.pickle', 'img-1001.pickle', 'img-433.pickle', 'img-485.pickle', 'img-1008.pickle', 'img-575.pickle', 'img-1429.pickle', 'img-126.pickle', 'img-367.pickle', 'img-632.pickle', 'img-1972.pickle', 'img-35.pickle', 'img-33.pickle', 'img-1419.pickle', 'img-394.pickle', 'img-321.pickle', 'img-1804.pickle', 'img-1205.pickle', 'img-694.pickle', 'img-1817.pickle', 'img-1208.pickle', 'img-1361.pickle', 'img-1318.pickle', 'img-1144.pickle', 'img-676.pickle', 'img-463.pickle', 'img-24.pickle', 'img-318.pickle', 'img-68.pickle', 'img-1485.pickle', 'img-98.pickle', 'img-894.pickle', 'img-508.pickle', 'img-271.pickle', 'img-181.pickle', 'img-1887.pickle', 'img-1308.pickle', 'img-1879.pickle', 'img-1207.pickle', 'img-1775.pickle', 'img-1142.pickle', 'img-1133.pickle', 'img-211.pickle', 'img-451.pickle', 'img-1700.pickle', 'img-1267.pickle', 'img-36.pickle', 'img-1766.pickle', 'img-292.pickle', 'img-1818.pickle', 'img-1668.pickle', 'img-1873.pickle', 'img-1546.pickle', 'img-688.pickle', 'img-1729.pickle', 'img-1347.pickle', 'img-636.pickle', 'img-1880.pickle', 'img-349.pickle', 'img-1963.pickle', 'img-1576.pickle', 'img-1334.pickle', 'img-1134.pickle', 'img-1110.pickle', 'img-1647.pickle', 'img-1415.pickle', 'img-1530.pickle', 'img-1433.pickle', 'img-1262.pickle', 'img-585.pickle', 'img-1183.pickle', 'img-376.pickle', 'img-316.pickle', 'img-1979.pickle', 'img-673.pickle', 'img-1905.pickle', 'img-1226.pickle', 'img-729.pickle', 'img-1641.pickle', 'img-1609.pickle', 'img-1388.pickle', 'img-1362.pickle', 'img-938.pickle', 'img-34.pickle', 'img-1168.pickle', 'img-1306.pickle', 'img-1189.pickle', 'img-1758.pickle', 'img-1656.pickle', 'img-1682.pickle', 'img-1730.pickle', 'img-1265.pickle', 'img-257.pickle', 'img-765.pickle', 'img-1831.pickle', 'img-641.pickle', 'img-310.pickle', 'img-1840.pickle', 'img-997.pickle', 'img-324.pickle', 'img-1489.pickle', 'img-1038.pickle', 'img-639.pickle', 'img-509.pickle', 'img-1184.pickle', 'img-285.pickle', 'img-468.pickle', 'img-1557.pickle', 'img-1821.pickle', 'img-1819.pickle', 'img-1021.pickle', 'img-1480.pickle', 'img-1739.pickle', 'img-250.pickle', 'img-1397.pickle', 'img-1765.pickle', 'img-219.pickle', 'img-619.pickle', 'img-44.pickle', 'img-983.pickle', 'img-168.pickle', 'img-1962.pickle', 'img-208.pickle', 'img-1487.pickle', 'img-1722.pickle', 'img-476.pickle', 'img-966.pickle', 'img-1686.pickle', 'img-1096.pickle', 'img-1977.pickle', 'img-363.pickle', 'img-1115.pickle', 'img-1264.pickle', 'img-1118.pickle', 'img-1377.pickle', 'img-13.pickle', 'img-643.pickle', 'img-171.pickle', 'img-1199.pickle', 'img-1920.pickle', 'img-354.pickle', 'img-630.pickle', 'img-954.pickle', 'img-59.pickle', 'img-56.pickle', 'img-1932.pickle', 'img-943.pickle', 'img-685.pickle', 'img-1387.pickle', 'img-1147.pickle', 'img-1164.pickle', 'img-748.pickle', 'img-1274.pickle', 'img-984.pickle', 'img-1113.pickle', 'img-836.pickle', 'img-734.pickle', 'img-535.pickle', 'img-419.pickle', 'img-340.pickle', 'img-161.pickle', 'img-1476.pickle', 'img-100.pickle', 'img-991.pickle', 'img-373.pickle', 'img-347.pickle', 'img-146.pickle', 'img-177.pickle', 'img-1632.pickle', 'img-112.pickle', 'img-1894.pickle', 'img-1509.pickle', 'img-1679.pickle', 'img-831.pickle', 'img-1068.pickle', 'img-1572.pickle', 'img-201.pickle', 'img-1628.pickle', 'img-390.pickle', 'img-1077.pickle', 'img-1216.pickle', 'img-1495.pickle', 'img-1697.pickle', 'img-1941.pickle', 'img-1562.pickle', 'img-1828.pickle', 'img-1627.pickle', 'img-121.pickle', 'img-637.pickle', 'img-235.pickle', 'img-595.pickle', 'img-1968.pickle', 'img-1797.pickle', 'img-1517.pickle', 'img-365.pickle', 'img-705.pickle', 'img-598.pickle', 'img-937.pickle', 'img-1466.pickle', 'img-245.pickle', 'img-198.pickle', 'img-1102.pickle', 'img-669.pickle', 'img-704.pickle', 'img-1069.pickle', 'img-828.pickle', 'img-336.pickle', 'img-65.pickle', 'img-1172.pickle', 'img-730.pickle', 'img-1121.pickle', 'img-186.pickle', 'img-107.pickle', 'img-118.pickle', 'img-1242.pickle', 'img-1663.pickle', 'img-1884.pickle', 'img-1567.pickle', 'img-427.pickle', 'img-413.pickle', 'img-338.pickle', 'img-1224.pickle', 'img-156.pickle', 'img-534.pickle', 'img-158.pickle', 'img-521.pickle', 'img-560.pickle', 'img-392.pickle', 'img-870.pickle', 'img-1206.pickle', 'img-633.pickle', 'img-1743.pickle', 'img-1030.pickle', 'img-360.pickle', 'img-1400.pickle', 'img-1950.pickle', 'img-449.pickle', 'img-767.pickle', 'img-628.pickle', 'img-1360.pickle', 'img-993.pickle', 'img-1610.pickle', 'img-170.pickle', 'img-9.pickle', 'img-651.pickle', 'img-275.pickle', 'img-1864.pickle', 'img-1381.pickle', 'img-996.pickle', 'img-231.pickle', 'img-890.pickle', 'img-1736.pickle', 'img-356.pickle', 'img-777.pickle', 'img-948.pickle', 'img-841.pickle', 'img-195.pickle', 'img-1437.pickle', 'img-424.pickle', 'img-1478.pickle', 'img-1436.pickle', 'img-1007.pickle', 'img-1125.pickle', 'img-1560.pickle', 'img-1100.pickle', 'img-479.pickle', 'img-833.pickle', 'img-268.pickle', 'img-1458.pickle', 'img-228.pickle', 'img-124.pickle', 'img-284.pickle', 'img-1552.pickle', 'img-1175.pickle', 'img-1070.pickle', 'img-1450.pickle', 'img-1926.pickle', 'img-382.pickle', 'img-1291.pickle', 'img-242.pickle', 'img-1453.pickle', 'img-474.pickle', 'img-503.pickle', 'img-666.pickle', 'img-1507.pickle', 'img-621.pickle', 'img-1428.pickle', 'img-620.pickle', 'img-1150.pickle', 'img-1772.pickle', 'img-1865.pickle', 'img-961.pickle', 'img-1891.pickle', 'img-561.pickle', 'img-1621.pickle', 'img-778.pickle', 'img-305.pickle', 'img-1751.pickle', 'img-447.pickle', 'img-791.pickle', 'img-0.pickle', 'img-478.pickle', 'img-1162.pickle', 'img-1460.pickle', 'img-17.pickle', 'img-1209.pickle', 'img-1992.pickle', 'img-1872.pickle', 'img-1023.pickle', 'img-1200.pickle', 'img-1801.pickle', 'img-674.pickle', 'img-1724.pickle', 'img-600.pickle', 'img-819.pickle', 'img-104.pickle', 'img-1398.pickle', 'img-209.pickle', 'img-1126.pickle', 'img-731.pickle', 'img-142.pickle', 'img-332.pickle', 'img-364.pickle', 'img-189.pickle', 'img-1790.pickle', 'img-1575.pickle', 'img-393.pickle', 'img-1805.pickle', 'img-1698.pickle', 'img-1380.pickle', 'img-1792.pickle', 'img-739.pickle', 'img-706.pickle', 'img-401.pickle', 'img-246.pickle', 'img-1412.pickle', 'img-1275.pickle', 'img-1948.pickle', 'img-855.pickle', 'img-1705.pickle', 'img-1088.pickle', 'img-233.pickle', 'img-1465.pickle', 'img-1767.pickle', 'img-1777.pickle', 'img-261.pickle', 'img-1834.pickle', 'img-103.pickle', 'img-564.pickle', 'img-1066.pickle', 'img-214.pickle', 'img-876.pickle', 'img-1824.pickle', 'img-826.pickle', 'img-879.pickle', 'img-792.pickle', 'img-858.pickle', 'img-454.pickle', 'img-1004.pickle', 'img-1370.pickle', 'img-763.pickle', 'img-935.pickle', 'img-692.pickle', 'img-276.pickle', 'img-766.pickle', 'img-682.pickle', 'img-1580.pickle', 'img-1559.pickle', 'img-1333.pickle', 'img-1651.pickle', 'img-1914.pickle', 'img-859.pickle', 'img-404.pickle', 'img-1723.pickle', 'img-169.pickle', 'img-1528.pickle', 'img-1896.pickle', 'img-872.pickle', 'img-1391.pickle', 'img-1711.pickle', 'img-776.pickle', 'img-1243.pickle', 'img-568.pickle', 'img-1952.pickle', 'img-1261.pickle', 'img-709.pickle', 'img-1646.pickle', 'img-375.pickle', 'img-1365.pickle', 'img-827.pickle', 'img-1785.pickle', 'img-805.pickle', 'img-1232.pickle', 'img-926.pickle', 'img-644.pickle', 'img-58.pickle', 'img-799.pickle', 'img-293.pickle', 'img-847.pickle', 'img-1996.pickle', 'img-1587.pickle', 'img-580.pickle', 'img-1827.pickle', 'img-1353.pickle', 'img-771.pickle', 'img-1445.pickle', 'img-91.pickle', 'img-459.pickle', 'img-1667.pickle', 'img-1344.pickle', 'img-1155.pickle', 'img-1691.pickle', 'img-1526.pickle', 'img-1708.pickle', 'img-287.pickle', 'img-1286.pickle', 'img-885.pickle', 'img-1959.pickle', 'img-1883.pickle', 'img-947.pickle', 'img-385.pickle', 'img-846.pickle', 'img-1784.pickle', 'img-46.pickle', 'img-825.pickle', 'img-1606.pickle', 'img-1732.pickle', 'img-1781.pickle', 'img-1803.pickle', 'img-1086.pickle', 'img-423.pickle', 'img-1340.pickle', 'img-1519.pickle', 'img-1660.pickle', 'img-921.pickle', 'img-1791.pickle', 'img-1130.pickle', 'img-1314.pickle', 'img-1744.pickle', 'img-1823.pickle', 'img-1410.pickle', 'img-317.pickle', 'img-842.pickle', 'img-1351.pickle', 'img-216.pickle', 'img-513.pickle', 'img-1097.pickle', 'img-327.pickle', 'img-1114.pickle', 'img-1876.pickle', 'img-1676.pickle', 'img-924.pickle', 'img-1794.pickle', 'img-266.pickle', 'img-140.pickle', 'img-329.pickle', 'img-1188.pickle', 'img-196.pickle', 'img-1946.pickle', 'img-473.pickle', 'img-25.pickle', 'img-622.pickle', 'img-416.pickle', 'img-1661.pickle', 'img-1930.pickle', 'img-742.pickle', 'img-653.pickle', 'img-1462.pickle', 'img-1.pickle', 'img-307.pickle', 'img-1078.pickle', 'img-1369.pickle', 'img-832.pickle', 'img-863.pickle', 'img-1167.pickle', 'img-1422.pickle', 'img-1843.pickle', 'img-302.pickle', 'img-1025.pickle', 'img-1056.pickle', 'img-1503.pickle', 'img-150.pickle', 'img-383.pickle', 'img-905.pickle', 'img-549.pickle', 'img-306.pickle', 'img-822.pickle', 'img-1287.pickle', 'img-241.pickle', 'img-1131.pickle', 'img-1793.pickle', 'img-1542.pickle', 'img-696.pickle', 'img-1092.pickle', 'img-1296.pickle', 'img-762.pickle', 'img-1586.pickle', 'img-1617.pickle', 'img-1731.pickle', 'img-1939.pickle', 'img-1393.pickle', 'img-1444.pickle', 'img-49.pickle', 'img-138.pickle', 'img-1065.pickle', 'img-562.pickle', 'img-226.pickle', 'img-893.pickle', 'img-309.pickle', 'img-1323.pickle', 'img-119.pickle', 'img-1868.pickle', 'img-1120.pickle', 'img-1163.pickle', 'img-1515.pickle', 'img-491.pickle', 'img-78.pickle', 'img-1674.pickle', 'img-1067.pickle', 'img-1844.pickle', 'img-964.pickle', 'img-337.pickle', 'img-1085.pickle', 'img-795.pickle', 'img-1720.pickle', 'img-1011.pickle', 'img-230.pickle', 'img-30.pickle', 'img-1738.pickle', 'img-1322.pickle', 'img-1934.pickle', 'img-773.pickle', 'img-1329.pickle', 'img-1747.pickle', 'img-1665.pickle', 'img-808.pickle', 'img-1239.pickle', 'img-1396.pickle', 'img-918.pickle', 'img-114.pickle', 'img-939.pickle', 'img-1138.pickle', 'img-1279.pickle', 'img-1779.pickle', 'img-1719.pickle', 'img-546.pickle', 'img-1749.pickle', 'img-97.pickle', 'img-1087.pickle', 'img-1633.pickle', 'img-667.pickle', 'img-1395.pickle', 'img-442.pickle', 'img-224.pickle', 'img-1392.pickle', 'img-1071.pickle', 'img-1539.pickle', 'img-540.pickle', 'img-203.pickle', 'img-260.pickle', 'img-601.pickle', 'img-453.pickle', 'img-1424.pickle', 'img-936.pickle', 'img-1589.pickle', 'img-1052.pickle', 'img-1753.pickle', 'img-1253.pickle', 'img-79.pickle', 'img-1083.pickle', 'img-1148.pickle', 'img-1900.pickle', 'img-1302.pickle', 'img-873.pickle', 'img-254.pickle', 'img-718.pickle', 'img-1847.pickle', 'img-1288.pickle', 'img-1978.pickle', 'img-998.pickle', 'img-210.pickle', 'img-1139.pickle', 'img-962.pickle', 'img-1372.pickle', 'img-693.pickle', 'img-278.pickle', 'img-1151.pickle', 'img-420.pickle', 'img-1958.pickle', 'img-1811.pickle', 'img-1770.pickle', 'img-1101.pickle', 'img-83.pickle', 'img-1105.pickle', 'img-1098.pickle', 'img-108.pickle', 'img-1525.pickle', 'img-882.pickle', 'img-786.pickle', 'img-179.pickle', 'img-400.pickle', 'img-1693.pickle', 'img-406.pickle', 'img-1798.pickle', 'img-1989.pickle', 'img-797.pickle', 'img-593.pickle', 'img-180.pickle', 'img-1654.pickle', 'img-1639.pickle', 'img-665.pickle', 'img-1774.pickle', 'img-61.pickle', 'img-426.pickle', 'img-1383.pickle', 'img-1108.pickle', 'img-26.pickle', 'img-1249.pickle', 'img-1836.pickle', 'img-524.pickle', 'img-272.pickle', 'img-1248.pickle', 'img-1925.pickle', 'img-810.pickle', 'img-1022.pickle', 'img-1615.pickle', 'img-1696.pickle', 'img-1624.pickle', 'img-80.pickle', 'img-1903.pickle', 'img-1225.pickle', 'img-1702.pickle', 'img-76.pickle', 'img-559.pickle', 'img-1984.pickle', 'img-388.pickle', 'img-736.pickle', 'img-1637.pickle', 'img-1504.pickle', 'img-1787.pickle', 'img-37.pickle', 'img-710.pickle', 'img-714.pickle', 'img-1565.pickle', 'img-737.pickle', 'img-1317.pickle', 'img-650.pickle', 'img-1761.pickle', 'img-1197.pickle', 'img-247.pickle', 'img-514.pickle', 'img-1304.pickle', 'img-494.pickle', 'img-1625.pickle', 'img-1471.pickle', 'img-258.pickle', 'img-1491.pickle', 'img-422.pickle', 'img-496.pickle', 'img-941.pickle', 'img-625.pickle', 'img-613.pickle', 'img-754.pickle', 'img-743.pickle', 'img-724.pickle', 'img-1062.pickle', 'img-265.pickle', 'img-504.pickle', 'img-1027.pickle', 'img-1671.pickle', 'img-1045.pickle', 'img-488.pickle', 'img-21.pickle', 'img-1010.pickle', 'img-888.pickle', 'img-47.pickle', 'img-66.pickle', 'img-1385.pickle', 'img-1882.pickle', 'img-1626.pickle', 'img-951.pickle', 'img-603.pickle', 'img-732.pickle', 'img-407.pickle', 'img-1143.pickle', 'img-1315.pickle', 'img-715.pickle', 'img-1268.pickle', 'img-194.pickle', 'img-1906.pickle', 'img-638.pickle', 'img-584.pickle', 'img-1254.pickle', 'img-1680.pickle', 'img-1084.pickle', 'img-1684.pickle', 'img-1389.pickle', 'img-553.pickle', 'img-1307.pickle', 'img-1669.pickle', 'img-1483.pickle', 'img-1638.pickle', 'img-133.pickle', 'img-804.pickle', 'img-1520.pickle', 'img-10.pickle', 'img-70.pickle', 'img-1579.pickle', 'img-1538.pickle', 'img-1725.pickle', 'img-662.pickle', 'img-1814.pickle', 'img-1675.pickle', 'img-1217.pickle', 'img-255.pickle', 'img-1390.pickle', 'img-647.pickle', 'img-912.pickle', 'img-1885.pickle', 'img-1109.pickle', 'img-1912.pickle', 'img-348.pickle', 'img-974.pickle', 'img-1776.pickle', 'img-1954.pickle', 'img-1922.pickle', 'img-1180.pickle', 'img-878.pickle', 'img-980.pickle', 'img-830.pickle', 'img-1345.pickle', 'img-1295.pickle', 'img-341.pickle', 'img-616.pickle', 'img-1407.pickle', 'img-1169.pickle', 'img-793.pickle', 'img-1053.pickle', 'img-1712.pickle', 'img-1917.pickle', 'img-303.pickle', 'img-875.pickle', 'img-1581.pickle', 'img-1845.pickle', 'img-1857.pickle', 'img-1571.pickle', 'img-500.pickle', 'img-949.pickle', 'img-1464.pickle', 'img-801.pickle', 'img-213.pickle', 'img-525.pickle', 'img-501.pickle', 'img-361.pickle', 'img-1402.pickle', 'img-642.pickle', 'img-1316.pickle', 'img-1496.pickle', 'img-1931.pickle', 'img-916.pickle', 'img-87.pickle', 'img-1482.pickle', 'img-663.pickle', 'img-922.pickle', 'img-1795.pickle', 'img-461.pickle', 'img-556.pickle', 'img-1985.pickle', 'img-1222.pickle', 'img-824.pickle', 'img-152.pickle', 'img-11.pickle', 'img-71.pickle', 'img-204.pickle', 'img-868.pickle', 'img-581.pickle', 'img-1718.pickle', 'img-1160.pickle', 'img-1063.pickle', 'img-753.pickle', 'img-498.pickle', 'img-1281.pickle', 'img-475.pickle', 'img-538.pickle', 'img-184.pickle', 'img-1364.pickle', 'img-1079.pickle', 'img-1014.pickle', 'img-1953.pickle', 'img-1187.pickle', 'img-972.pickle', 'img-952.pickle', 'img-1366.pickle', 'img-770.pickle', 'img-900.pickle', 'img-624.pickle', 'img-88.pickle', 'img-590.pickle', 'img-162.pickle', 'img-780.pickle', 'img-871.pickle', 'img-1073.pickle', 'img-670.pickle', 'img-178.pickle', 'img-1284.pickle', 'img-1374.pickle', 'img-1033.pickle', 'img-973.pickle', 'img-659.pickle', 'img-39.pickle', 'img-282.pickle', 'img-1588.pickle', 'img-1399.pickle', 'img-1642.pickle', 'img-1564.pickle', 'img-75.pickle', 'img-751.pickle', 'img-1585.pickle', 'img-573.pickle', 'img-1157.pickle', 'img-176.pickle', 'img-1532.pickle', 'img-1789.pickle', 'img-988.pickle', 'img-1620.pickle', 'img-995.pickle', 'img-43.pickle', 'img-915.pickle', 'img-1219.pickle', 'img-167.pickle', 'img-357.pickle', 'img-713.pickle', 'img-917.pickle', 'img-599.pickle', 'img-784.pickle', 'img-63.pickle', 'img-90.pickle', 'img-680.pickle', 'img-1909.pickle', 'img-596.pickle', 'img-1707.pickle', 'img-300.pickle', 'img-1174.pickle', 'img-681.pickle', 'img-95.pickle', 'img-1636.pickle', 'img-1431.pickle', 'img-867.pickle', 'img-331.pickle', 'img-343.pickle', 'img-1598.pickle', 'img-849.pickle', 'img-240.pickle', 'img-1874.pickle', 'img-909.pickle', 'img-1748.pickle', 'img-389.pickle', 'img-1312.pickle', 'img-605.pickle', 'img-1406.pickle', 'img-1332.pickle', 'img-880.pickle', 'img-1568.pickle', 'img-758.pickle', 'img-93.pickle', 'img-342.pickle', 'img-1241.pickle', 'img-1191.pickle', 'img-976.pickle', 'img-1832.pickle', 'img-1016.pickle', 'img-1623.pickle', 'img-1913.pickle', 'img-1185.pickle', 'img-1313.pickle', 'img-187.pickle', 'img-738.pickle', 'img-852.pickle', 'img-1721.pickle', 'img-299.pickle', 'img-193.pickle', 'img-1741.pickle', 'img-933.pickle', 'img-883.pickle', 'img-1858.pickle', 'img-664.pickle', 'img-840.pickle', 'img-67.pickle', 'img-38.pickle', 'img-1324.pickle', 'img-1942.pickle', 'img-864.pickle', 'img-1076.pickle', 'img-1049.pickle', 'img-526.pickle', 'img-12.pickle', 'img-794.pickle', 'img-853.pickle', 'img-141.pickle', 'img-1752.pickle', 'img-1613.pickle', 'img-313.pickle', 'img-1755.pickle', 'img-48.pickle', 'img-897.pickle', 'img-236.pickle', 'img-649.pickle', 'img-471.pickle', 'img-5.pickle', 'img-1861.pickle', 'img-1558.pickle', 'img-1838.pickle', 'img-252.pickle', 'img-1806.pickle', 'img-1928.pickle', 'img-569.pickle', 'img-1670.pickle', 'img-1986.pickle', 'img-1234.pickle', 'img-1714.pickle', 'img-1352.pickle', 'img-1773.pickle', 'img-1015.pickle', 'img-1303.pickle', 'img-1842.pickle', 'img-1685.pickle', 'img-1531.pickle', 'img-981.pickle', 'img-1259.pickle', 'img-217.pickle', 'img-1272.pickle', 'img-222.pickle', 'img-1289.pickle', 'img-1477.pickle', 'img-1320.pickle', 'img-648.pickle', 'img-1266.pickle', 'img-1357.pickle', 'img-740.pickle', 'img-368.pickle', 'img-428.pickle', 'img-944.pickle', 'img-645.pickle', 'img-1851.pickle', 'img-1890.pickle', 'img-1672.pickle', 'img-757.pickle', 'img-29.pickle', 'img-1533.pickle', 'img-1870.pickle', 'img-470.pickle', 'img-702.pickle', 'img-1029.pickle', 'img-1999.pickle', 'img-522.pickle', 'img-55.pickle', 'img-856.pickle']\n",
            "Number of training examples: 1600\n",
            "Number of validation examples: 400\n"
          ],
          "name": "stdout"
        }
      ]
    },
    {
      "cell_type": "code",
      "metadata": {
        "colab": {
          "base_uri": "https://localhost:8080/",
          "height": 17
        },
        "id": "ZnlIH0OU0SvP",
        "outputId": "78eae53e-fc88-4c05-c55a-31f7f7db2545"
      },
      "source": [
        "from google.colab import files\n",
        "files.download('random_indices.pkl')"
      ],
      "execution_count": null,
      "outputs": [
        {
          "output_type": "display_data",
          "data": {
            "application/javascript": [
              "\n",
              "    async function download(id, filename, size) {\n",
              "      if (!google.colab.kernel.accessAllowed) {\n",
              "        return;\n",
              "      }\n",
              "      const div = document.createElement('div');\n",
              "      const label = document.createElement('label');\n",
              "      label.textContent = `Downloading \"${filename}\": `;\n",
              "      div.appendChild(label);\n",
              "      const progress = document.createElement('progress');\n",
              "      progress.max = size;\n",
              "      div.appendChild(progress);\n",
              "      document.body.appendChild(div);\n",
              "\n",
              "      const buffers = [];\n",
              "      let downloaded = 0;\n",
              "\n",
              "      const channel = await google.colab.kernel.comms.open(id);\n",
              "      // Send a message to notify the kernel that we're ready.\n",
              "      channel.send({})\n",
              "\n",
              "      for await (const message of channel.messages) {\n",
              "        // Send a message to notify the kernel that we're ready.\n",
              "        channel.send({})\n",
              "        if (message.buffers) {\n",
              "          for (const buffer of message.buffers) {\n",
              "            buffers.push(buffer);\n",
              "            downloaded += buffer.byteLength;\n",
              "            progress.value = downloaded;\n",
              "          }\n",
              "        }\n",
              "      }\n",
              "      const blob = new Blob(buffers, {type: 'application/binary'});\n",
              "      const a = document.createElement('a');\n",
              "      a.href = window.URL.createObjectURL(blob);\n",
              "      a.download = filename;\n",
              "      div.appendChild(a);\n",
              "      a.click();\n",
              "      div.remove();\n",
              "    }\n",
              "  "
            ],
            "text/plain": [
              "<IPython.core.display.Javascript object>"
            ]
          },
          "metadata": {
            "tags": []
          }
        },
        {
          "output_type": "display_data",
          "data": {
            "application/javascript": [
              "download(\"download_81b8449e-efd0-4242-b16f-e1bae4aad3a0\", \"random_indices.pkl\", 5754)"
            ],
            "text/plain": [
              "<IPython.core.display.Javascript object>"
            ]
          },
          "metadata": {
            "tags": []
          }
        }
      ]
    },
    {
      "cell_type": "code",
      "metadata": {
        "id": "klRQAqMks5PD",
        "colab": {
          "base_uri": "https://localhost:8080/"
        },
        "outputId": "3b0c158a-53bf-4a20-c8de-0daa69936447"
      },
      "source": [
        "def create_data_generators():\n",
        "    \"\"\"Create generators of training data and validation data\"\"\" \n",
        "    train_datagen = tf.keras.preprocessing.image.ImageDataGenerator(\n",
        "        rescale = 1.0/255.0,\n",
        "        width_shift_range = 0.15,\n",
        "        horizontal_flip = True,\n",
        "        vertical_flip = True,\n",
        "        fill_mode='nearest'    \n",
        "    )\n",
        "\n",
        "    val_datagen = tf.keras.preprocessing.image.ImageDataGenerator(\n",
        "        rescale = 1.0/255.0,\n",
        "    )\n",
        "\n",
        "    train_generator = train_datagen.flow_from_directory(\n",
        "        directory = TRAINING_DIR,\n",
        "        batch_size = BATCH_SIZE,\n",
        "        target_size = (50, 500),\n",
        "        color_mode = 'grayscale', # images will be converted to have 1 channel\n",
        "        class_mode = 'input', # labels will be images identical to input images\n",
        "    )\n",
        "\n",
        "    val_generator = val_datagen.flow_from_directory(\n",
        "        directory = TESTING_DIR,\n",
        "        batch_size = BATCH_SIZE,\n",
        "        target_size = (50, 500),\n",
        "        color_mode = 'grayscale',\n",
        "        class_mode = 'input'\n",
        "    )\n",
        "\n",
        "    return train_generator, val_generator\n",
        "\n",
        "train_generator, val_generator = create_data_generators()"
      ],
      "execution_count": 6,
      "outputs": [
        {
          "output_type": "stream",
          "text": [
            "Found 1600 images belonging to 1 classes.\n",
            "Found 400 images belonging to 1 classes.\n"
          ],
          "name": "stdout"
        }
      ]
    },
    {
      "cell_type": "code",
      "metadata": {
        "id": "ZReHg3QTtfe9"
      },
      "source": [
        "class Sampling(tf.keras.layers.Layer):\n",
        "    def call(self, inputs):\n",
        "        \"\"\"Generates a random sample and combines with the encoder output\n",
        "\n",
        "        Args:\n",
        "          inputs -- output tensor from the encoder\n",
        "\n",
        "        Returns:\n",
        "          `inputs` tensors combined with a random sample\n",
        "        \"\"\"\n",
        "\n",
        "        # unpack the output of the encoder\n",
        "        mu, sigma = inputs\n",
        "\n",
        "        # get the size and dimensions of the batch\n",
        "        batch = tf.shape(mu)[0]\n",
        "        dim = tf.shape(mu)[1]\n",
        "\n",
        "        # generate a random tensor\n",
        "        epsilon = tf.keras.backend.random_normal(shape=(batch, dim))\n",
        "\n",
        "        # combine the inputs and noise\n",
        "        return mu + tf.exp(0.5 * sigma) * epsilon\n",
        "\n",
        "\n",
        "def encoder_layers(inputs, latent_dim):\n",
        "    \"\"\"Defines the encoder's layers.\n",
        "    Args:\n",
        "      inputs -- batch from the dataset\n",
        "      latent_dim -- dimensionality of the latent space\n",
        "\n",
        "    Returns:\n",
        "      mu -- learned mean\n",
        "      sigma -- learned standard deviation\n",
        "      batch_2.shape -- shape of the features before flattening\n",
        "    \"\"\"\n",
        "\n",
        "    # add the Conv2D layers followed by BatchNormalization\n",
        "    x = tf.keras.layers.Conv2D(filters=32, kernel_size=3, strides=2, \n",
        "                               padding=\"same\", activation='relu',\n",
        "                               name=\"encode_conv1\")(inputs)\n",
        "    x = tf.keras.layers.BatchNormalization()(x)\n",
        "    x = tf.keras.layers.Conv2D(filters=64, kernel_size=3, strides=2, \n",
        "                               padding='same', activation='relu',\n",
        "                               name=\"encode_conv2\")(x)\n",
        "    x = tf.keras.layers.BatchNormalization()(x)\n",
        "    x = tf.keras.layers.Conv2D(filters=128, kernel_size=3, strides=2, \n",
        "                               padding='same', activation='relu',\n",
        "                               name=\"encode_conv3\")(x)\n",
        "    x = tf.keras.layers.BatchNormalization()(x)\n",
        "    x = tf.keras.layers.Conv2D(filters=256, kernel_size=3, strides=2, \n",
        "                               padding='same', activation='relu',\n",
        "                               name=\"encode_conv4\")(x)   \n",
        "                               \n",
        "    # assign to a different variable so you can extract the shape later\n",
        "    batch_3 = tf.keras.layers.BatchNormalization()(x)\n",
        "\n",
        "    # flatten the features and feed into the Dense network\n",
        "    x = tf.keras.layers.Flatten(name=\"encode_flatten\")(batch_3)\n",
        "\n",
        "    # we arbitrarily used ... units here but feel free to change\n",
        "    x = tf.keras.layers.Dense(1024, activation='relu', name=\"encode_dense\")(x)\n",
        "    x = tf.keras.layers.BatchNormalization()(x)\n",
        "\n",
        "    # add output Dense networks for mu and sigma, units equal to the declared latent_dim.\n",
        "    mu = tf.keras.layers.Dense(latent_dim, name='latent_mu')(x)\n",
        "    sigma = tf.keras.layers.Dense(latent_dim, name='latent_sigma')(x)\n",
        "\n",
        "    return mu, sigma, batch_3.shape\n",
        "\n",
        "def encoder_model(latent_dim, input_shape):\n",
        "    \"\"\"Defines the encoder model with the Sampling layer\n",
        "    Args:\n",
        "      latent_dim -- dimensionality of the latent space\n",
        "      input_shape -- shape of the dataset batch\n",
        "\n",
        "    Returns:\n",
        "      model -- the encoder model\n",
        "      conv_shape -- shape of the features before flattening\n",
        "    \"\"\"\n",
        "\n",
        "    # declare the inputs tensor with the given shape\n",
        "    inputs = tf.keras.layers.Input(shape=input_shape)\n",
        "\n",
        "    # get the output of the encoder_layers() function\n",
        "    mu, sigma, conv_shape = encoder_layers(inputs, latent_dim=LATENT_DIM)\n",
        "\n",
        "    # feed mu and sigma to the Sampling layer\n",
        "    z = Sampling()((mu, sigma))\n",
        "\n",
        "    # build the whole encoder model\n",
        "    model = tf.keras.Model(inputs, outputs=[mu, sigma, z])\n",
        "\n",
        "    return model, conv_shape\n",
        "\n",
        "\n",
        "# Define decision variables for adding Cropping2D layers in decoder layers\n",
        "\n",
        "topcrop_after_upsampling0 = (math.ceil(math.ceil(math.ceil(IMAGE_HEIGHT/2)/2)/2) % 2 != 0)\n",
        "leftcrop_after_upsampling0 = (math.ceil(math.ceil(math.ceil(IMAGE_WIDTH/2)/2)/2) % 2 != 0)\n",
        "topcrop_after_upsampling1 = (math.ceil(math.ceil(IMAGE_HEIGHT/2)/2) % 2 != 0)\n",
        "leftcrop_after_upsampling1 = (math.ceil(math.ceil(IMAGE_WIDTH/2)/2) % 2 != 0)\n",
        "topcrop_after_upsampling2 = (math.ceil(IMAGE_HEIGHT/2) % 2 != 0)\n",
        "leftcrop_after_upsampling2 = (math.ceil(IMAGE_WIDTH/2) % 2 != 0)\n",
        "topcrop_after_upsampling3 = (IMAGE_HEIGHT % 2 != 0)\n",
        "leftcrop_after_upsampling3 = (IMAGE_WIDTH % 2 != 0)\n",
        "\n",
        "\n",
        "def decoder_layers(inputs, conv_shape, topcrop_after_upsampling1, \n",
        "                   leftcrop_after_upsampling1, topcrop_after_upsampling2, \n",
        "                   leftcrop_after_upsampling2,\n",
        "                   topcrop_after_upsampling3, leftcrop_after_upsampling3):\n",
        "    \"\"\"Defines the decoder layers.\n",
        "    Args:\n",
        "      inputs -- output of the encoder\n",
        "      conv_shape -- shape of the features before flattening\n",
        "\n",
        "    Returns:\n",
        "      tensor containing the decoded output\n",
        "    \"\"\"\n",
        "\n",
        "    # feed to a Dense network with units computed from the conv_shape dimensions\n",
        "    units = conv_shape[1] * conv_shape[2] * conv_shape[3]\n",
        "    x = tf.keras.layers.Dense(units, activation='relu', name=\"decode_dense1\")(inputs)\n",
        "    x = tf.keras.layers.BatchNormalization()(x)\n",
        "\n",
        "    # reshape output using the conv_shape dimensions\n",
        "    x = tf.keras.layers.Reshape((conv_shape[1], conv_shape[2], conv_shape[3]), \n",
        "                                name=\"decode_reshape\")(x)\n",
        "\n",
        "    # upsample the features back to the original dimensions\n",
        "    # for that, make sure to add Cropping2D layers after upsampling when needed\n",
        "    x = tf.keras.layers.Conv2DTranspose(filters=256, kernel_size=3, strides=2, \n",
        "                                        padding='same', activation='relu',\n",
        "                                        name=\"decode_conv2d_0\")(x)\n",
        "    x = tf.keras.layers.BatchNormalization()(x)\n",
        "    if topcrop_after_upsampling0:\n",
        "        x = tf.keras.layers.Cropping2D(cropping=((1, 0), (0, 0)))(x)\n",
        "    if leftcrop_after_upsampling0:\n",
        "        x = tf.keras.layers.Cropping2D(cropping=((0, 0), (1, 0)))(x) \n",
        "    x = tf.keras.layers.Conv2DTranspose(filters=128, kernel_size=3, strides=2, \n",
        "                                        padding='same', activation='relu',\n",
        "                                        name=\"decode_conv2d_1\")(x)\n",
        "    x = tf.keras.layers.BatchNormalization()(x)\n",
        "    if topcrop_after_upsampling1:\n",
        "        x = tf.keras.layers.Cropping2D(cropping=((1, 0), (0, 0)))(x)\n",
        "    if leftcrop_after_upsampling1:\n",
        "        x = tf.keras.layers.Cropping2D(cropping=((0, 0), (1, 0)))(x)\n",
        "    x = tf.keras.layers.Conv2DTranspose(filters=64, kernel_size=3, strides=2, \n",
        "                                        padding='same', activation='relu',\n",
        "                                        name=\"decode_conv2d_2\")(x)\n",
        "    x = tf.keras.layers.BatchNormalization()(x)\n",
        "    if topcrop_after_upsampling2:\n",
        "        x = tf.keras.layers.Cropping2D(cropping=((1, 0), (0, 0)))(x)\n",
        "    if leftcrop_after_upsampling2:\n",
        "        x = tf.keras.layers.Cropping2D(cropping=((0, 0), (1, 0)))(x)\n",
        "    x = tf.keras.layers.Conv2DTranspose(filters=32, kernel_size=3, strides=2, \n",
        "                                        padding='same', activation='relu',\n",
        "                                        name=\"decode_conv2d_3\")(x)\n",
        "    x = tf.keras.layers.BatchNormalization()(x)\n",
        "    if topcrop_after_upsampling3:\n",
        "        x = tf.keras.layers.Cropping2D(cropping=((1, 0), (0, 0)))(x)\n",
        "    if leftcrop_after_upsampling3:\n",
        "        x = tf.keras.layers.Cropping2D(cropping=((0, 0), (1, 0)))(x)\n",
        "    x = tf.keras.layers.Conv2DTranspose(filters=1, kernel_size=3, strides=1, \n",
        "                                        padding='same', activation='sigmoid',\n",
        "                                        name=\"decode_final\")(x)\n",
        "\n",
        "    return x\n",
        "\n",
        "def decoder_model(latent_dim, conv_shape):\n",
        "    \"\"\"Defines the decoder model.\n",
        "    Args:\n",
        "      latent_dim -- dimensionality of the latent space\n",
        "      conv_shape -- shape of the features before flattening\n",
        "\n",
        "    Returns:\n",
        "      model -- the decoder model\n",
        "    \"\"\"\n",
        "\n",
        "    # set the inputs to the shape of the latent space\n",
        "    inputs = tf.keras.layers.Input(shape=(latent_dim,))\n",
        "\n",
        "    # get the output of the decoder layers\n",
        "    outputs = decoder_layers(inputs, conv_shape, topcrop_after_upsampling1, \n",
        "                             leftcrop_after_upsampling1, \n",
        "                             topcrop_after_upsampling2, \n",
        "                             leftcrop_after_upsampling2, \n",
        "                             topcrop_after_upsampling3, \n",
        "                             leftcrop_after_upsampling3)\n",
        "\n",
        "    # declare the inputs and outputs of the model\n",
        "    model = tf.keras.Model(inputs, outputs)\n",
        "\n",
        "    return model\n",
        "\n",
        "def kl_reconstruction_loss(inputs, outputs, mu, sigma):\n",
        "    \"\"\" Computes the Kullback-Leibler Divergence (KLD)\n",
        "    Args:\n",
        "      inputs -- batch from the dataset\n",
        "      outputs -- output of the Sampling layer\n",
        "      mu -- mean\n",
        "      sigma -- standard deviation\n",
        "\n",
        "    Returns:\n",
        "      KLD loss\n",
        "    \"\"\"\n",
        "    kl_loss = 1 + sigma - tf.square(mu) - tf.math.exp(sigma)\n",
        "    kl_loss = tf.reduce_mean(kl_loss) * -0.5\n",
        "\n",
        "    return kl_loss\n",
        "\n",
        "def vae_model(encoder, decoder, input_shape):\n",
        "    \"\"\"Defines the VAE model\n",
        "    Args:\n",
        "      encoder -- the encoder model\n",
        "      decoder -- the decoder model\n",
        "      input_shape -- shape of the dataset batch\n",
        "\n",
        "    Returns:\n",
        "      the complete VAE model\n",
        "    \"\"\"\n",
        "    # set the inputs\n",
        "    inputs = tf.keras.layers.Input(shape=input_shape)\n",
        "\n",
        "    # get mu, sigma, and z from the encoder output\n",
        "    mu, sigma, z = encoder(inputs)\n",
        "\n",
        "    # get reconstructed output from the decoder\n",
        "    reconstructed = decoder(z)\n",
        "\n",
        "    # define the inputs and outputs of the VAE\n",
        "    model = tf.keras.Model(inputs=inputs, outputs=reconstructed)\n",
        "\n",
        "    # add the KL loss\n",
        "    loss = kl_reconstruction_loss(inputs, z, mu, sigma)\n",
        "    model.add_loss(loss)\n",
        "\n",
        "    return model\n",
        "\n",
        "def get_models(input_shape, latent_dim):\n",
        "    \"\"\"Returns the encoder, decoder, and vae models\"\"\"\n",
        "    encoder, conv_shape = encoder_model(latent_dim=latent_dim, input_shape=input_shape)\n",
        "    decoder = decoder_model(latent_dim=latent_dim, conv_shape=conv_shape)\n",
        "    vae = vae_model(encoder, decoder, input_shape=input_shape)\n",
        "    return encoder, decoder, vae"
      ],
      "execution_count": 7,
      "outputs": []
    },
    {
      "cell_type": "code",
      "metadata": {
        "id": "8kuHjYojtmHz"
      },
      "source": [
        "# Define a VAE class via model subclassing\n",
        "loss_metrics = tf.keras.metrics.Mean()\n",
        "val_loss_metrics = tf.keras.metrics.Mean()\n",
        "\n",
        "class VAE(tf.keras.Model):\n",
        "    def __init__(self, encoder, decoder, variational_autoencoder):\n",
        "        super(VAE, self).__init__()\n",
        "        self.encoder = encoder\n",
        "        self.decoder = decoder\n",
        "        self.vae = variational_autoencoder\n",
        "\n",
        "    # override train_step method\n",
        "    def train_step(self, images):\n",
        "        if isinstance(images, tuple):\n",
        "            images = images[0]\n",
        "        with tf.GradientTape() as tape:\n",
        "            # feed a batch to the VAE model\n",
        "            reconstructed = self.vae(images)\n",
        "            # compute reconstruction loss\n",
        "            flattened_inputs = tf.reshape(images, [-1])\n",
        "            flattened_outputs = tf.reshape(reconstructed, [-1])\n",
        "            loss = self.compiled_loss(flattened_inputs, flattened_outputs) \\\n",
        "                   * images.shape[1] * images.shape[2]\n",
        "            # add KLD regularization loss\n",
        "            loss += sum(self.vae.losses)\n",
        "\n",
        "        # compute the gradients and update the model weights\n",
        "        grads = tape.gradient(loss, self.vae.trainable_weights)\n",
        "        self.optimizer.apply_gradients(zip(grads, self.vae.trainable_weights))\n",
        "\n",
        "        # update metrics\n",
        "        loss_metrics.update_state(loss)\n",
        "        \n",
        "        # return a dict mapping metrics names to current value\n",
        "        return {'loss': loss_metrics.result()}\n",
        "\n",
        "    # override test_step method\n",
        "    def test_step(self, images):\n",
        "        if isinstance(images, tuple):\n",
        "            images = images[0]\n",
        "        # compute predictions\n",
        "        reconstructed = self.vae(images)\n",
        "        # compute loss\n",
        "        flattened_inputs = tf.reshape(images, [-1])\n",
        "        flattened_outputs = tf.reshape(reconstructed, [-1])\n",
        "        loss = self.compiled_loss(flattened_inputs, flattened_outputs) \\\n",
        "               * images.shape[1] * images.shape[2]\n",
        "        # add KLD regularization loss\n",
        "        loss += sum(self.vae.losses)\n",
        "        # update metrics\n",
        "        val_loss_metrics.update_state(loss)\n",
        "        # return a dict mapping metrics names to current value\n",
        "        return {'loss': val_loss_metrics.result()}\n",
        "\n",
        "    def call(self, images):\n",
        "        if isinstance(images, tuple):\n",
        "            images = images[0]\n",
        "        return self.vae(images)"
      ],
      "execution_count": 8,
      "outputs": []
    },
    {
      "cell_type": "code",
      "metadata": {
        "id": "YqBdfidbt3aF"
      },
      "source": [
        "def generate_and_save_images(model, epoch, step, test_input, vae_model):\n",
        "    \"\"\"Helper function to plot our 8 images\n",
        "\n",
        "    Args:\n",
        "\n",
        "    model -- the decoder model\n",
        "    epoch -- current epoch number during training\n",
        "    step -- current step number during training\n",
        "    test_input -- random tensor with shape (8, LATENT_DIM)\n",
        "    \"\"\"\n",
        "\n",
        "    # generate images from the test input\n",
        "    predictions = model.predict(test_input)\n",
        "\n",
        "    # plot the results\n",
        "    fig = plt.figure(figsize=(12, 14))\n",
        "\n",
        "    for i in range(predictions.shape[0]):\n",
        "        plt.subplot(8, 1, i + 1)\n",
        "        plt.imshow(predictions[i, :, :, 0], cmap='gray')\n",
        "        plt.axis('off')\n",
        "\n",
        "    # tight_layout minimizes the overlap between 2 sub-plots\n",
        "    fig.suptitle(\"epoch: {}, step: {}\".format(epoch, step))\n",
        "    plt.savefig('image_at_epoch_{:04d}_step{:04d}.png'.format(epoch, step))\n",
        "\n",
        "    if epoch != 0:\n",
        "        fig = plt.figure()\n",
        "        plt.scatter(range(len(vae_model.history.history['loss'])), \n",
        "                    vae_model.history.history['loss'])\n",
        "        plt.scatter(range(len(vae_model.history.history['val_loss'])), \n",
        "                    vae_model.history.history['val_loss'], color='red')\n",
        "        plt.savefig('Losses.png')\n",
        "    plt.show()\n",
        "\n",
        "def show_original_reconstructed_images(model, generator):\n",
        "    plt.figure(figsize=(10, 14))\n",
        "    input_images, _ = generator.next()\n",
        "    k = 0\n",
        "    for i in range(5):\n",
        "        reconstructed = model(np.expand_dims(input_images[i], axis=0))\n",
        "        #reconstructed_categorized = np.where(reconstructed >= 0.5, 1, 0)\n",
        "        plt.subplot(5, 2, k+1)\n",
        "        plt.imshow(np.squeeze(input_images[i]), cmap='gray')\n",
        "        plt.subplot(5, 2, k+2)\n",
        "        #plt.imshow(np.squeeze(reconstructed_categorized), cmap='gray')\n",
        "        plt.imshow(np.squeeze(reconstructed), cmap='gray')\n",
        "        k += 2\n",
        "        plt.savefig(\"reconstructed_images.png\")\n",
        "    plt.show()"
      ],
      "execution_count": 9,
      "outputs": []
    },
    {
      "cell_type": "markdown",
      "metadata": {
        "id": "TaZthzIQcdMP"
      },
      "source": [
        "Setting a learning rate scheduler for selecting the learning rate parameter during training"
      ]
    },
    {
      "cell_type": "code",
      "metadata": {
        "id": "HwJjP5p7t7Ob",
        "colab": {
          "base_uri": "https://localhost:8080/",
          "height": 937
        },
        "outputId": "2084cef4-d44d-4756-b57a-c812118da54a"
      },
      "source": [
        "tf.keras.backend.clear_session()\n",
        "tf.random.set_seed(42)\n",
        "np.random.seed(42)\n",
        "\n",
        "# Create a callback that saves the model's weights every few epochs during training\n",
        "checkpoint_path = 'checkpoint/cp-cp{epoch:04d}.ckpt'\n",
        "cp_callback = tf.keras.callbacks.ModelCheckpoint(\n",
        "    filepath = checkpoint_path,\n",
        "    verbose = 1,\n",
        "    save_weights_only = True,\n",
        "    save_freq = math.ceil(num_examples/BATCH_SIZE) * 100\n",
        ")\n",
        "\n",
        "# Create custom callback to display outputs (via helper function) at the end of each epoch of training\n",
        "class CustomCallback(tf.keras.callbacks.Callback):\n",
        "    def on_epoch_end(self, epoch, logs=None):\n",
        "        keys = list(logs.keys())\n",
        "        # Generate random vector as test input to the decoder\n",
        "        random_vector_for_generation = tf.random.normal(shape=[8, LATENT_DIM])\n",
        "        # Generate and save images\n",
        "        display.clear_output(wait=False)\n",
        "        if epoch % 100 == 0:\n",
        "            generate_and_save_images(decoder, epoch, \n",
        "                                     math.ceil(num_examples/BATCH_SIZE), \n",
        "                                     random_vector_for_generation, vae)\n",
        "        print('End of epoch {} - mean loss = {}'.format(epoch, logs[keys[0]]))\n",
        "\n",
        "# Create callback for adjusting learning rate during training\n",
        "lr_schedule = tf.keras.callbacks.LearningRateScheduler(\n",
        "    lambda epoch: 1e-6 * 10**(epoch / 20))\n",
        "\n",
        "# Get the encoder, decoder and 'master' model (called vae)\n",
        "encoder, decoder, var_autoencoder = get_models(\n",
        "    input_shape=(IMAGE_HEIGHT, IMAGE_WIDTH, NUM_CHANNELS,), \n",
        "    latent_dim=LATENT_DIM)\n",
        "\n",
        "# Instantiate VAE class\n",
        "vae = VAE(encoder, decoder, var_autoencoder)\n",
        "\n",
        "# Compile model\n",
        "vae.compile(\n",
        "    optimizer = tf.keras.optimizers.Adam(lr=1e-6),\n",
        "    loss = tf.keras.losses.BinaryCrossentropy()\n",
        ")\n",
        "\n",
        "# Generate random vector as test input to the decoder\n",
        "random_vector_for_generation = tf.random.normal(shape=[8, LATENT_DIM])\n",
        "\n",
        "# Initialize the helper function to display outputs from an untrained model\n",
        "generate_and_save_images(decoder, 0, 0, random_vector_for_generation, vae)\n",
        "\n",
        "# Training loop using original dataset\n",
        "history = vae.fit(train_generator, epochs=100, verbose=1, \n",
        "                  callbacks=[cp_callback, CustomCallback(), lr_schedule])"
      ],
      "execution_count": null,
      "outputs": [
        {
          "output_type": "stream",
          "text": [
            "End of epoch 99 - mean loss = nan\n"
          ],
          "name": "stdout"
        }
      ]
    },
    {
      "cell_type": "code",
      "metadata": {
        "id": "6BSZVxR26H6D",
        "colab": {
          "base_uri": "https://localhost:8080/",
          "height": 290
        },
        "outputId": "8a0a900f-fd47-4b94-f727-ef60e2721d12"
      },
      "source": [
        "# Plot losses against learning rates\n",
        "plt.semilogx(vae.history.history['lr'], vae.history.history['loss'])\n",
        "plt.axis([1e-6, 0.01, 14000, 17500])"
      ],
      "execution_count": null,
      "outputs": [
        {
          "output_type": "execute_result",
          "data": {
            "text/plain": [
              "(1e-06, 0.01, 14000.0, 17500.0)"
            ]
          },
          "metadata": {
            "tags": []
          },
          "execution_count": 17
        },
        {
          "output_type": "display_data",
          "data": {
            "image/png": "[encoded data removed]",
            "text/plain": [
              "<Figure size 432x288 with 1 Axes>"
            ]
          },
          "metadata": {
            "tags": [],
            "needs_background": "light"
          }
        }
      ]
    },
    {
      "cell_type": "markdown",
      "metadata": {
        "id": "Loh9fstKcjT-"
      },
      "source": [
        "Training the model using the chosen learning rate value "
      ]
    },
    {
      "cell_type": "code",
      "metadata": {
        "id": "ja8NQJWpInIp"
      },
      "source": [
        "tf.keras.backend.clear_session()\n",
        "tf.random.set_seed(42)\n",
        "np.random.seed(42)\n",
        "\n",
        "# Create a callback that saves the model's weights every few epochs during training\n",
        "checkpoint_path = './cp-cp{epoch:04d}.ckpt'\n",
        "cp_callback = tf.keras.callbacks.ModelCheckpoint(\n",
        "    filepath = checkpoint_path,\n",
        "    verbose = 1,\n",
        "    save_weights_only = True,\n",
        "    save_freq = math.ceil(num_examples*(1-TEST_SIZE)/BATCH_SIZE) * 100\n",
        ")\n",
        "\n",
        "# Create custom callback to display outputs (via helper function) at the end of each epoch of training\n",
        "class CustomCallback(tf.keras.callbacks.Callback):\n",
        "    def on_epoch_end(self, epoch, logs=None):\n",
        "        keys = list(logs.keys())\n",
        "        # Generate random vector as test input to the decoder\n",
        "        random_vector_for_generation = tf.random.normal(shape=[8, LATENT_DIM])\n",
        "        # Generate and save images\n",
        "        print('End of epoch {} - mean loss = {}'.format(epoch, logs[keys[0]]))\n",
        "        display.clear_output(wait=False)\n",
        "        if epoch % 100 == 0:\n",
        "            generate_and_save_images(decoder, epoch, \n",
        "                                     math.ceil(num_examples/BATCH_SIZE), \n",
        "                                     random_vector_for_generation, vae)\n",
        "\n",
        "# Get the encoder, decoder and 'master' model (called vae)\n",
        "encoder, decoder, var_autoencoder = get_models(\n",
        "    input_shape=(IMAGE_HEIGHT, IMAGE_WIDTH, NUM_CHANNELS,), \n",
        "    latent_dim=LATENT_DIM)\n",
        "\n",
        "# Instantiate VAE class\n",
        "vae = VAE(encoder, decoder, var_autoencoder)\n",
        "\n",
        "# Compile model\n",
        "vae.compile(\n",
        "    optimizer = tf.keras.optimizers.Adam(lr=8e-4),\n",
        "    loss = tf.keras.losses.BinaryCrossentropy()\n",
        ")\n",
        "\n",
        "# Generate random vector as test input to the decoder\n",
        "random_vector_for_generation = tf.random.normal(shape=[8, LATENT_DIM])\n",
        "\n",
        "# Initialize the helper function to display outputs from an untrained model\n",
        "generate_and_save_images(decoder, 0, 0, random_vector_for_generation, vae)\n",
        "\n",
        "# Training loop using original dataset\n",
        "history = vae.fit(x=train_generator, \n",
        "                  epochs=EPOCHS,  \n",
        "                  verbose=1, \n",
        "                  validation_data = val_generator, \n",
        "                  callbacks=[cp_callback, CustomCallback()])      "
      ],
      "execution_count": null,
      "outputs": []
    },
    {
      "cell_type": "code",
      "metadata": {
        "id": "vMTLorbeoCNu",
        "colab": {
          "base_uri": "https://localhost:8080/",
          "height": 282
        },
        "outputId": "5c58238a-7982-42ed-9b2c-39293428956c"
      },
      "source": [
        "# Plot evolution of train and validation losses during training\n",
        "plt.scatter(range(len(vae.history.history['loss'])), vae.history.history['loss'])\n",
        "plt.scatter(range(len(vae.history.history['val_loss'])), vae.history.history['val_loss'], color='red')"
      ],
      "execution_count": null,
      "outputs": [
        {
          "output_type": "execute_result",
          "data": {
            "text/plain": [
              "<matplotlib.collections.PathCollection at 0x7f35967db450>"
            ]
          },
          "metadata": {
            "tags": []
          },
          "execution_count": 15
        },
        {
          "output_type": "display_data",
          "data": {
            "image/png": "[encoded data removed]",
            "text/plain": [
              "<Figure size 432x288 with 1 Axes>"
            ]
          },
          "metadata": {
            "tags": [],
            "needs_background": "light"
          }
        }
      ]
    },
    {
      "cell_type": "markdown",
      "metadata": {
        "id": "ffh7_Sr2cqp6"
      },
      "source": [
        "After restarting the environment, instantiate new VAE model, load weights from last checkpoint and resume training"
      ]
    },
    {
      "cell_type": "code",
      "metadata": {
        "id": "LR3TujeGbDzh",
        "colab": {
          "base_uri": "https://localhost:8080/",
          "height": 707
        },
        "outputId": "602cb83e-6f29-47d5-a5c4-32f96d40ac87"
      },
      "source": [
        "# Show reconstructed images from trained model\n",
        "show_original_reconstructed_images(vae, train_generator)"
      ],
      "execution_count": null,
      "outputs": [
        {
          "output_type": "display_data",
          "data": {
            "image/png": "[encoded data removed]",
            "text/plain": [
              "<Figure size 720x1008 with 10 Axes>"
            ]
          },
          "metadata": {
            "tags": [],
            "needs_background": "light"
          }
        }
      ]
    },
    {
      "cell_type": "code",
      "metadata": {
        "id": "ZBUrnwpMuCTv",
        "colab": {
          "base_uri": "https://localhost:8080/"
        },
        "outputId": "63d4c901-a770-4005-ec78-0b99c1596b78"
      },
      "source": [
        "# Get the encoder, decoder and 'master' model (called vae)\n",
        "encoder, decoder, var_autoencoder = get_models(input_shape=(IMAGE_HEIGHT, IMAGE_WIDTH, NUM_CHANNELS,), latent_dim=LATENT_DIM)\n",
        "\n",
        "# Create new instance of VAE class\n",
        "new_vae = VAE(encoder, decoder, var_autoencoder)\n",
        "\n",
        "# Load weights from last checkpoint\n",
        "checkpoint_dir = '/content/gdrive/My Drive/'\n",
        "latest = tf.train.latest_checkpoint(checkpoint_dir)\n",
        "print(latest)\n"
      ],
      "execution_count": 10,
      "outputs": [
        {
          "output_type": "stream",
          "text": [
            "/content/gdrive/My Drive/cp-cp0500.ckpt\n"
          ],
          "name": "stdout"
        }
      ]
    },
    {
      "cell_type": "code",
      "metadata": {
        "id": "7liWl_S9Wzzh"
      },
      "source": [
        "new_vae.load_weights(latest)\n",
        "new_vae.compile(\n",
        "    optimizer = tf.keras.optimizers.Adam(8e-4),\n",
        "    loss = tf.keras.losses.BinaryCrossentropy()\n",
        ")"
      ],
      "execution_count": 11,
      "outputs": []
    },
    {
      "cell_type": "code",
      "metadata": {
        "id": "qbi_f_RFvE3T",
        "colab": {
          "base_uri": "https://localhost:8080/"
        },
        "outputId": "dc60f115-330d-4963-c929-6bf07d4b172a"
      },
      "source": [
        "new_vae.evaluate(train_generator, verbose=1)"
      ],
      "execution_count": 12,
      "outputs": [
        {
          "output_type": "stream",
          "text": [
            "25/25 [==============================] - 4s 141ms/step - loss: 8408.2450\n"
          ],
          "name": "stdout"
        },
        {
          "output_type": "execute_result",
          "data": {
            "text/plain": [
              "8477.0009765625"
            ]
          },
          "metadata": {
            "tags": []
          },
          "execution_count": 12
        }
      ]
    },
    {
      "cell_type": "code",
      "metadata": {
        "id": "veT2g3x7u_0b",
        "colab": {
          "base_uri": "https://localhost:8080/",
          "height": 68
        },
        "outputId": "d6350a9e-ec96-428c-c94e-c20c99b96a29"
      },
      "source": [
        "# Create a callback that saves the model's weights every few epochs during training\n",
        "checkpoint_path = './cp-cp{epoch:04d}.ckpt'\n",
        "cp_callback = tf.keras.callbacks.ModelCheckpoint(\n",
        "    filepath = checkpoint_path,\n",
        "    verbose = 1,\n",
        "    save_weights_only = True,\n",
        "    save_freq = math.ceil(num_examples*(1-TEST_SIZE)/BATCH_SIZE) * 100\n",
        ")\n",
        "# Create custom callback to display outputs (via helper function) at the end of each epoch of training\n",
        "class CustomCallback(tf.keras.callbacks.Callback):\n",
        "    def on_epoch_end(self, epoch, logs=None):\n",
        "        keys = list(logs.keys())\n",
        "        # Generate random vector as test input to the decoder\n",
        "        random_vector_for_generation = tf.random.normal(shape=[8, LATENT_DIM])\n",
        "        # Generate and save images\n",
        "        display.clear_output(wait=True)\n",
        "        if epoch % 100 == 0:\n",
        "            generate_and_save_images(decoder, epoch, \n",
        "                                     math.ceil(num_examples/BATCH_SIZE), \n",
        "                                     random_vector_for_generation, new_vae)\n",
        "        print('End of epoch {} - mean loss = {}'.format(epoch, logs[keys[0]]))\n",
        "\n",
        "# Resume training using original dataset\n",
        "new_vae.fit(x=train_generator, epochs=500, \n",
        "            verbose=1, \n",
        "            validation_data=val_generator, \n",
        "            callbacks=[cp_callback, CustomCallback()])"
      ],
      "execution_count": null,
      "outputs": [
        {
          "output_type": "stream",
          "text": [
            "End of epoch 453 - mean loss = 8367.0185546875\n",
            "Epoch 455/500\n",
            "25/25 [==============================] - ETA: 0s - loss: 8366.9082"
          ],
          "name": "stdout"
        }
      ]
    },
    {
      "cell_type": "code",
      "metadata": {
        "id": "a1tikmPh6yYh"
      },
      "source": [
        "# Plot evolution of train and validation losses during training\n",
        "plt.scatter(range(len(new_vae.history.history['loss'])), \n",
        "            new_vae.history.history['loss'], \n",
        "            label = 'training loss')\n",
        "plt.scatter(range(len(new_vae.history.history['val_loss'])), \n",
        "            new_vae.history.history['val_loss'], color='red', \n",
        "            label ='validation loss')\n",
        "plt.xlabel('number of epochs')\n",
        "plt.ylabel('loss')\n",
        "plt.legend()\n"
      ],
      "execution_count": null,
      "outputs": []
    },
    {
      "cell_type": "markdown",
      "metadata": {
        "id": "eDT7Jm4ndBfB"
      },
      "source": [
        "Compare the original images with the reconstructed images from the trained model"
      ]
    },
    {
      "cell_type": "code",
      "metadata": {
        "id": "KVLen6k1uIJ-"
      },
      "source": [
        "# Show reconstructed images from trained model\n",
        "show_original_reconstructed_images(new_vae, train_generator)"
      ],
      "execution_count": null,
      "outputs": []
    },
    {
      "cell_type": "code",
      "metadata": {
        "id": "GIyyFuWZ1MRM"
      },
      "source": [
        "while True:\n",
        "    pass"
      ],
      "execution_count": null,
      "outputs": []
    }
  ]
}
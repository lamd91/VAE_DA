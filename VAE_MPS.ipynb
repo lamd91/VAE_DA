{
  "nbformat": 4,
  "nbformat_minor": 0,
  "metadata": {
    "accelerator": "GPU",
    "colab": {
      "name": "VAE_MPS_last.ipynb",
      "provenance": [],
      "collapsed_sections": [],
      "include_colab_link": true
    },
    "kernelspec": {
      "display_name": "Python 3",
      "name": "python3"
    },
    "language_info": {
      "name": "python"
    }
  },
  "cells": [
    {
      "cell_type": "markdown",
      "metadata": {
        "id": "view-in-github",
        "colab_type": "text"
      },
      "source": [
        "<a href=\"https://colab.research.google.com/github/lamd91/VAE_DA/blob/master/VAE_MPS.ipynb\" target=\"_parent\"><img src=\"https://colab.research.google.com/assets/colab-badge.svg\" alt=\"Open In Colab\"/></a>"
      ]
    },
    {
      "cell_type": "code",
      "metadata": {
        "id": "MlmkMoV9r0Zu",
        "colab": {
          "base_uri": "https://localhost:8080/"
        },
        "outputId": "af777d3e-d324-437c-8e94-e2d422c9bdd5"
      },
      "source": [
        "import numpy as np\n",
        "import tensorflow as tf\n",
        "from matplotlib import pyplot as plt\n",
        "import math\n",
        "from IPython import display\n",
        "import os\n",
        "from google.colab import drive\n",
        "drive.mount('/content/gdrive')"
      ],
      "execution_count": 1,
      "outputs": [
        {
          "output_type": "stream",
          "text": [
            "Mounted at /content/gdrive\n"
          ],
          "name": "stdout"
        }
      ]
    },
    {
      "cell_type": "code",
      "metadata": {
        "id": "nejBn076s2So"
      },
      "source": [
        "# Define global constants\n",
        "BATCH_SIZE = 32\n",
        "LATENT_DIM = 2\n",
        "EPOCHS = 800\n",
        "IMAGE_HEIGHT = 50\n",
        "IMAGE_WIDTH = 500\n",
        "NUM_CHANNELS = 1\n",
        "TEST_SIZE = 0.2"
      ],
      "execution_count": 2,
      "outputs": []
    },
    {
      "cell_type": "code",
      "metadata": {
        "id": "klRQAqMks5PD"
      },
      "source": [
        "def map_image(image):\n",
        "    '''Returns a reshaped tensor from a given image as input and as label'''\n",
        "    image = tf.cast(image, dtype=tf.float32)\n",
        "    image = tf.reshape(image, shape=(IMAGE_HEIGHT, IMAGE_WIDTH, NUM_CHANNELS,))\n",
        "\n",
        "    return image, image\n",
        "\n",
        "def augment_image(image):\n",
        "    '''Returns as input and as label a reshaped tensor from a given image \n",
        "    which may have undergone some horizontal or vertical flipping '''\n",
        "    image = tf.cast(image, dtype=tf.float32)\n",
        "    image = tf.reshape(image, shape=(IMAGE_HEIGHT, IMAGE_WIDTH, NUM_CHANNELS,))\n",
        "    image = tf.image.random_flip_left_right(image)\n",
        "    image = tf.image.random_flip_up_down(image)\n",
        "\n",
        "    return image, image\n",
        "\n",
        "# def get_datasets(test_size):\n",
        "#     \"\"\"Loads and prepares the dataset from a text file.\"\"\"\n",
        "#     dataset = np.transpose(\n",
        "#         np.loadtxt('/content/gdrive/My Drive/iniMPSimEns_1000.txt'))\n",
        "#     num_examples = dataset.shape[0]\n",
        "#     original_train_dataset = tf.data.Dataset.from_tensor_slices(\n",
        "#         dataset[0:int(num_examples*(1-test_size))])\n",
        "#     val_dataset = tf.data.Dataset.from_tensor_slices(\n",
        "#         dataset[int(num_examples*(1-test_size)):])\n",
        "\n",
        "#     augmented_train_dataset = original_train_dataset.map(augment_image).cache().shuffle(1024).batch(BATCH_SIZE)\n",
        "#     original_train_dataset = original_train_dataset.map(map_image).cache().shuffle(1024).batch(BATCH_SIZE)\n",
        "#     val_dataset = val_dataset.map(map_image).cache().batch(BATCH_SIZE)\n",
        "\n",
        "#     return augmented_train_dataset, original_train_dataset, val_dataset, num_examples\n",
        "\n",
        "def get_datasets(test_size):\n",
        "    \"\"\"Loads and prepares the dataset from a 2D array loaded from a text file.\"\"\"\n",
        "    dataset = np.transpose(\n",
        "        np.loadtxt('/content/gdrive/My Drive/iniMPSimEns_1000.txt'))\n",
        "    num_examples = dataset.shape[0]\n",
        "    original_train_dataset = tf.data.Dataset.from_tensor_slices(\n",
        "        dataset[0:int(num_examples*(1-test_size))])\n",
        "    val_dataset = tf.data.Dataset.from_tensor_slices(\n",
        "        dataset[int(num_examples*(1-test_size)):])\n",
        "\n",
        "    original_train_dataset = original_train_dataset.map(map_image).batch(int(num_examples*(1-test_size)))\n",
        "    val_dataset = val_dataset.map(map_image).batch(int(num_examples*(1-test_size)))\n",
        "\n",
        "    train_datagen = tf.keras.preprocessing.image.ImageDataGenerator(\n",
        "        width_shift_range = 0.15,\n",
        "        horizontal_flip = True,\n",
        "        vertical_flip = True,\n",
        "        fill_mode='nearest'\n",
        "    )\n",
        "    val_datagen = tf.keras.preprocessing.image.ImageDataGenerator()\n",
        "\n",
        "    for input_images, images in original_train_dataset:\n",
        "        x_train, y_train = input_images, images\n",
        "    for input_images, images in val_dataset:\n",
        "        x_val, y_val = input_images, images\n",
        "\n",
        "    train_generator = train_datagen.flow(x_train, y_train, batch_size=BATCH_SIZE)\n",
        "    val_generator = val_datagen.flow(x_val, y_val, batch_size=BATCH_SIZE)\n",
        "\n",
        "    return train_generator, original_train_dataset, val_generator, num_examples\n",
        "\n",
        "def display_three_train_images(train_dataset):\n",
        "    \"\"\"Displays 3 images from the training dataset\"\"\"\n",
        "    plt.figure(figsize=(5, 14))\n",
        "    for input_images, _ in train_dataset.take(1):\n",
        "        for i in range(3):\n",
        "            plt.subplot(3, 1, i+1)\n",
        "            plt.imshow(np.squeeze(input_images[i]), cmap='gray')\n",
        "    plt.show()"
      ],
      "execution_count": 3,
      "outputs": []
    },
    {
      "cell_type": "code",
      "metadata": {
        "id": "ZReHg3QTtfe9"
      },
      "source": [
        "class Sampling(tf.keras.layers.Layer):\n",
        "    def call(self, inputs):\n",
        "        \"\"\"Generates a random sample and combines with the encoder output\n",
        "\n",
        "        Args:\n",
        "          inputs -- output tensor from the encoder\n",
        "\n",
        "        Returns:\n",
        "          `inputs` tensors combined with a random sample\n",
        "        \"\"\"\n",
        "\n",
        "        # unpack the output of the encoder\n",
        "        mu, sigma = inputs\n",
        "\n",
        "        # get the size and dimensions of the batch\n",
        "        batch = tf.shape(mu)[0]\n",
        "        dim = tf.shape(mu)[1]\n",
        "\n",
        "        # generate a random tensor\n",
        "        epsilon = tf.keras.backend.random_normal(shape=(batch, dim))\n",
        "\n",
        "        # combine the inputs and noise\n",
        "        return mu + tf.exp(0.5 * sigma) * epsilon\n",
        "\n",
        "\n",
        "def encoder_layers(inputs, latent_dim):\n",
        "    \"\"\"Defines the encoder's layers.\n",
        "    Args:\n",
        "      inputs -- batch from the dataset\n",
        "      latent_dim -- dimensionality of the latent space\n",
        "\n",
        "    Returns:\n",
        "      mu -- learned mean\n",
        "      sigma -- learned standard deviation\n",
        "      batch_2.shape -- shape of the features before flattening\n",
        "    \"\"\"\n",
        "\n",
        "    # add the Conv2D layers followed by BatchNormalization\n",
        "    x = tf.keras.layers.Conv2D(filters=32, kernel_size=3, strides=2, \n",
        "                               padding=\"same\", activation='relu',\n",
        "                               name=\"encode_conv1\")(inputs)\n",
        "    x = tf.keras.layers.BatchNormalization()(x)\n",
        "    x = tf.keras.layers.Conv2D(filters=64, kernel_size=3, strides=2, \n",
        "                               padding='same', activation='relu',\n",
        "                               name=\"encode_conv2\")(x)\n",
        "    x = tf.keras.layers.BatchNormalization()(x)\n",
        "    x = tf.keras.layers.Conv2D(filters=128, kernel_size=3, strides=2, \n",
        "                               padding='same', activation='relu',\n",
        "                               name=\"encode_conv3\")(x)\n",
        "    # x = tf.keras.layers.BatchNormalization()(x)\n",
        "    # x = tf.keras.layers.Conv2D(filters=256, kernel_size=3, strides=2, \n",
        "    #                            padding='same', activation='relu',\n",
        "    #                            name=\"encode_conv4\")(x)    \n",
        "\n",
        "    # assign to a different variable so you can extract the shape later\n",
        "    batch_3 = tf.keras.layers.BatchNormalization()(x)\n",
        "\n",
        "    # flatten the features and feed into the Dense network\n",
        "    x = tf.keras.layers.Flatten(name=\"encode_flatten\")(batch_3)\n",
        "\n",
        "    # we arbitrarily used ... units here but feel free to change\n",
        "    x = tf.keras.layers.Dense(1024, activation='relu', name=\"encode_dense\")(x)\n",
        "    x = tf.keras.layers.BatchNormalization()(x)\n",
        "\n",
        "    # add output Dense networks for mu and sigma, units equal to the declared latent_dim.\n",
        "    mu = tf.keras.layers.Dense(latent_dim, name='latent_mu')(x)\n",
        "    sigma = tf.keras.layers.Dense(latent_dim, name='latent_sigma')(x)\n",
        "\n",
        "    return mu, sigma, batch_3.shape\n",
        "\n",
        "def encoder_model(latent_dim, input_shape):\n",
        "    \"\"\"Defines the encoder model with the Sampling layer\n",
        "    Args:\n",
        "      latent_dim -- dimensionality of the latent space\n",
        "      input_shape -- shape of the dataset batch\n",
        "\n",
        "    Returns:\n",
        "      model -- the encoder model\n",
        "      conv_shape -- shape of the features before flattening\n",
        "    \"\"\"\n",
        "\n",
        "    # declare the inputs tensor with the given shape\n",
        "    inputs = tf.keras.layers.Input(shape=input_shape)\n",
        "\n",
        "    # get the output of the encoder_layers() function\n",
        "    mu, sigma, conv_shape = encoder_layers(inputs, latent_dim=LATENT_DIM)\n",
        "\n",
        "    # feed mu and sigma to the Sampling layer\n",
        "    z = Sampling()((mu, sigma))\n",
        "\n",
        "    # build the whole encoder model\n",
        "    model = tf.keras.Model(inputs, outputs=[mu, sigma, z])\n",
        "\n",
        "    return model, conv_shape\n",
        "\n",
        "\n",
        "# Define decision variables for adding Cropping2D layers in decoder layers\n",
        "\n",
        "# topcrop_after_upsampling0 = (math.ceil(math.ceil(math.ceil(IMAGE_HEIGHT/2)/2)/2) % 2 != 0)\n",
        "# leftcrop_after_upsampling0 = (math.ceil(math.ceil(math.ceil(IMAGE_WIDTH/2)/2)/2) % 2 != 0)\n",
        "topcrop_after_upsampling1 = (math.ceil(math.ceil(IMAGE_HEIGHT/2)/2) % 2 != 0)\n",
        "leftcrop_after_upsampling1 = (math.ceil(math.ceil(IMAGE_WIDTH/2)/2) % 2 != 0)\n",
        "topcrop_after_upsampling2 = (math.ceil(IMAGE_HEIGHT/2) % 2 != 0)\n",
        "leftcrop_after_upsampling2 = (math.ceil(IMAGE_WIDTH/2) % 2 != 0)\n",
        "topcrop_after_upsampling3 = (IMAGE_HEIGHT % 2 != 0)\n",
        "leftcrop_after_upsampling3 = (IMAGE_WIDTH % 2 != 0)\n",
        "\n",
        "\n",
        "def decoder_layers(inputs, conv_shape, topcrop_after_upsampling1, \n",
        "                   leftcrop_after_upsampling1, topcrop_after_upsampling2, \n",
        "                   leftcrop_after_upsampling2,\n",
        "                   topcrop_after_upsampling3, leftcrop_after_upsampling3):\n",
        "    \"\"\"Defines the decoder layers.\n",
        "    Args:\n",
        "      inputs -- output of the encoder\n",
        "      conv_shape -- shape of the features before flattening\n",
        "\n",
        "    Returns:\n",
        "      tensor containing the decoded output\n",
        "    \"\"\"\n",
        "\n",
        "    # feed to a Dense network with units computed from the conv_shape dimensions\n",
        "    units = conv_shape[1] * conv_shape[2] * conv_shape[3]\n",
        "    x = tf.keras.layers.Dense(units, activation='relu', name=\"decode_dense1\")(inputs)\n",
        "    x = tf.keras.layers.BatchNormalization()(x)\n",
        "\n",
        "    # reshape output using the conv_shape dimensions\n",
        "    x = tf.keras.layers.Reshape((conv_shape[1], conv_shape[2], conv_shape[3]), \n",
        "                                name=\"decode_reshape\")(x)\n",
        "\n",
        "    # upsample the features back to the original dimensions\n",
        "    # for that, make sure to add Cropping2D layers after upsampling when needed\n",
        "    # x = tf.keras.layers.Conv2DTranspose(filters=256, kernel_size=3, strides=2, \n",
        "    #                                     padding='same', activation='relu',\n",
        "    #                                     name=\"decode_conv2d_0\")(x)\n",
        "    # x = tf.keras.layers.BatchNormalization()(x)\n",
        "    # if topcrop_after_upsampling0:\n",
        "    #     x = tf.keras.layers.Cropping2D(cropping=((1, 0), (0, 0)))(x)\n",
        "    # if leftcrop_after_upsampling0:\n",
        "    #     x = tf.keras.layers.Cropping2D(cropping=((0, 0), (1, 0)))(x)    \n",
        "    x = tf.keras.layers.Conv2DTranspose(filters=128, kernel_size=3, strides=2, \n",
        "                                        padding='same', activation='relu',\n",
        "                                        name=\"decode_conv2d_1\")(x)\n",
        "    x = tf.keras.layers.BatchNormalization()(x)\n",
        "    if topcrop_after_upsampling1:\n",
        "        x = tf.keras.layers.Cropping2D(cropping=((1, 0), (0, 0)))(x)\n",
        "    if leftcrop_after_upsampling1:\n",
        "        x = tf.keras.layers.Cropping2D(cropping=((0, 0), (1, 0)))(x)\n",
        "    x = tf.keras.layers.Conv2DTranspose(filters=64, kernel_size=3, strides=2, \n",
        "                                        padding='same', activation='relu',\n",
        "                                        name=\"decode_conv2d_2\")(x)\n",
        "    x = tf.keras.layers.BatchNormalization()(x)\n",
        "    if topcrop_after_upsampling2:\n",
        "        x = tf.keras.layers.Cropping2D(cropping=((1, 0), (0, 0)))(x)\n",
        "    if leftcrop_after_upsampling2:\n",
        "        x = tf.keras.layers.Cropping2D(cropping=((0, 0), (1, 0)))(x)\n",
        "    x = tf.keras.layers.Conv2DTranspose(filters=32, kernel_size=3, strides=2, \n",
        "                                        padding='same', activation='relu',\n",
        "                                        name=\"decode_conv2d_3\")(x)\n",
        "    x = tf.keras.layers.BatchNormalization()(x)\n",
        "    if topcrop_after_upsampling3:\n",
        "        x = tf.keras.layers.Cropping2D(cropping=((1, 0), (0, 0)))(x)\n",
        "    if leftcrop_after_upsampling3:\n",
        "        x = tf.keras.layers.Cropping2D(cropping=((0, 0), (1, 0)))(x)\n",
        "    x = tf.keras.layers.Conv2DTranspose(filters=1, kernel_size=3, strides=1, \n",
        "                                        padding='same', activation='sigmoid',\n",
        "                                        name=\"decode_final\")(x)\n",
        "\n",
        "    return x\n",
        "\n",
        "def decoder_model(latent_dim, conv_shape):\n",
        "    \"\"\"Defines the decoder model.\n",
        "    Args:\n",
        "      latent_dim -- dimensionality of the latent space\n",
        "      conv_shape -- shape of the features before flattening\n",
        "\n",
        "    Returns:\n",
        "      model -- the decoder model\n",
        "    \"\"\"\n",
        "\n",
        "    # set the inputs to the shape of the latent space\n",
        "    inputs = tf.keras.layers.Input(shape=(latent_dim,))\n",
        "\n",
        "    # get the output of the decoder layers\n",
        "    outputs = decoder_layers(inputs, conv_shape, topcrop_after_upsampling1, \n",
        "                             leftcrop_after_upsampling1, \n",
        "                             topcrop_after_upsampling2, \n",
        "                             leftcrop_after_upsampling2, \n",
        "                             topcrop_after_upsampling3, \n",
        "                             leftcrop_after_upsampling3)\n",
        "\n",
        "    # declare the inputs and outputs of the model\n",
        "    model = tf.keras.Model(inputs, outputs)\n",
        "\n",
        "    return model\n",
        "\n",
        "def kl_reconstruction_loss(inputs, outputs, mu, sigma):\n",
        "    \"\"\" Computes the Kullback-Leibler Divergence (KLD)\n",
        "    Args:\n",
        "      inputs -- batch from the dataset\n",
        "      outputs -- output of the Sampling layer\n",
        "      mu -- mean\n",
        "      sigma -- standard deviation\n",
        "\n",
        "    Returns:\n",
        "      KLD loss\n",
        "    \"\"\"\n",
        "    kl_loss = 1 + sigma - tf.square(mu) - tf.math.exp(sigma)\n",
        "    kl_loss = tf.reduce_mean(kl_loss) * -0.5\n",
        "\n",
        "    return kl_loss\n",
        "\n",
        "def vae_model(encoder, decoder, input_shape):\n",
        "    \"\"\"Defines the VAE model\n",
        "    Args:\n",
        "      encoder -- the encoder model\n",
        "      decoder -- the decoder model\n",
        "      input_shape -- shape of the dataset batch\n",
        "\n",
        "    Returns:\n",
        "      the complete VAE model\n",
        "    \"\"\"\n",
        "    # set the inputs\n",
        "    inputs = tf.keras.layers.Input(shape=input_shape)\n",
        "\n",
        "    # get mu, sigma, and z from the encoder output\n",
        "    mu, sigma, z = encoder(inputs)\n",
        "\n",
        "    # get reconstructed output from the decoder\n",
        "    reconstructed = decoder(z)\n",
        "\n",
        "    # define the inputs and outputs of the VAE\n",
        "    model = tf.keras.Model(inputs=inputs, outputs=reconstructed)\n",
        "\n",
        "    # add the KL loss\n",
        "    loss = kl_reconstruction_loss(inputs, z, mu, sigma)\n",
        "    model.add_loss(loss)\n",
        "\n",
        "    return model\n",
        "\n",
        "def get_models(input_shape, latent_dim):\n",
        "    \"\"\"Returns the encoder, decoder, and vae models\"\"\"\n",
        "    encoder, conv_shape = encoder_model(latent_dim=latent_dim, input_shape=input_shape)\n",
        "    decoder = decoder_model(latent_dim=latent_dim, conv_shape=conv_shape)\n",
        "    vae = vae_model(encoder, decoder, input_shape=input_shape)\n",
        "    return encoder, decoder, vae"
      ],
      "execution_count": 4,
      "outputs": []
    },
    {
      "cell_type": "code",
      "metadata": {
        "id": "8kuHjYojtmHz"
      },
      "source": [
        "# Define a VAE class via model subclassing\n",
        "loss_metrics = tf.keras.metrics.Mean()\n",
        "val_loss_metrics = tf.keras.metrics.Mean()\n",
        "\n",
        "class VAE(tf.keras.Model):\n",
        "    def __init__(self, encoder, decoder, variational_autoencoder):\n",
        "        super(VAE, self).__init__()\n",
        "        self.encoder = encoder\n",
        "        self.decoder = decoder\n",
        "        self.vae = variational_autoencoder\n",
        "\n",
        "    # override train_step method\n",
        "    def train_step(self, images):\n",
        "        if isinstance(images, tuple):\n",
        "            images = images[0]\n",
        "        with tf.GradientTape() as tape:\n",
        "            # feed a batch to the VAE model\n",
        "            reconstructed = self.vae(images)\n",
        "            # compute reconstruction loss\n",
        "            flattened_inputs = tf.reshape(images, [-1])\n",
        "            flattened_outputs = tf.reshape(reconstructed, [-1])\n",
        "            loss = self.compiled_loss(flattened_inputs, flattened_outputs) \\\n",
        "                   * images.shape[1] * images.shape[2]\n",
        "            # add KLD regularization loss\n",
        "            loss += sum(self.vae.losses)\n",
        "\n",
        "        # compute the gradients and update the model weights\n",
        "        grads = tape.gradient(loss, self.vae.trainable_weights)\n",
        "        self.optimizer.apply_gradients(zip(grads, self.vae.trainable_weights))\n",
        "\n",
        "        # update metrics\n",
        "        loss_metrics.update_state(loss)\n",
        "        \n",
        "        # return a dict mapping metrics names to current value\n",
        "        return {'loss': loss_metrics.result()}\n",
        "\n",
        "    # override test_step method\n",
        "    def test_step(self, images):\n",
        "        if isinstance(images, tuple):\n",
        "            images = images[0]\n",
        "        # compute predictions\n",
        "        reconstructed = self.vae(images)\n",
        "        # compute loss\n",
        "        flattened_inputs = tf.reshape(images, [-1])\n",
        "        flattened_outputs = tf.reshape(reconstructed, [-1])\n",
        "        loss = self.compiled_loss(flattened_inputs, flattened_outputs) \\\n",
        "               * images.shape[1] * images.shape[2]\n",
        "        # add KLD regularization loss\n",
        "        loss += sum(self.vae.losses)\n",
        "        # update metrics\n",
        "        val_loss_metrics.update_state(loss)\n",
        "        # return a dict mapping metrics names to current value\n",
        "        return {'loss': val_loss_metrics.result()}\n",
        "\n",
        "    def call(self, images):\n",
        "        if isinstance(images, tuple):\n",
        "            images = images[0]\n",
        "        return self.vae(images)"
      ],
      "execution_count": 5,
      "outputs": []
    },
    {
      "cell_type": "code",
      "metadata": {
        "id": "YqBdfidbt3aF"
      },
      "source": [
        "def generate_and_save_images(model, epoch, step, test_input, vae_model):\n",
        "    \"\"\"Helper function to plot our 8 images\n",
        "\n",
        "    Args:\n",
        "\n",
        "    model -- the decoder model\n",
        "    epoch -- current epoch number during training\n",
        "    step -- current step number during training\n",
        "    test_input -- random tensor with shape (8, LATENT_DIM)\n",
        "    \"\"\"\n",
        "\n",
        "    # generate images from the test input\n",
        "    predictions = model.predict(test_input)\n",
        "\n",
        "    # plot the results\n",
        "    fig = plt.figure(figsize=(12, 14))\n",
        "\n",
        "    for i in range(predictions.shape[0]):\n",
        "        plt.subplot(8, 1, i + 1)\n",
        "        plt.imshow(predictions[i, :, :, 0], cmap='gray')\n",
        "        plt.axis('off')\n",
        "\n",
        "    # tight_layout minimizes the overlap between 2 sub-plots\n",
        "    fig.suptitle(\"epoch: {}, step: {}\".format(epoch, step))\n",
        "    plt.savefig('image_at_epoch_{:04d}_step{:04d}.png'.format(epoch, step))\n",
        "\n",
        "    if epoch != 0:\n",
        "        fig = plt.figure()\n",
        "        plt.scatter(range(len(vae_model.history.history['loss'])), vae_model.history.history['loss'])\n",
        "        plt.scatter(range(len(vae_model.history.history['val_loss'])), vae_model.history.history['val_loss'], color='red')\n",
        "        plt.savefig('Losses.png')\n",
        "    plt.show()\n",
        "\n",
        "def show_original_reconstructed_images(model, train_dataset):\n",
        "    plt.figure(figsize=(10, 14))\n",
        "    for input_images, _ in train_dataset.take(1):\n",
        "        reconstructed = model(input_images)\n",
        "        k = 0\n",
        "        for i in range(5):\n",
        "            #reconstructed_categorized = np.where(reconstructed >= 0.5, 1, 0)\n",
        "            plt.subplot(5, 2, k+1)\n",
        "            plt.imshow(np.squeeze(input_images[i]), cmap='gray')\n",
        "            plt.subplot(5, 2, k+2)\n",
        "            #plt.imshow(np.squeeze(reconstructed_categorized[i]), cmap='gray')\n",
        "            plt.imshow(np.squeeze(reconstructed[i]), cmap='gray')\n",
        "            k += 2\n",
        "        plt.savefig(\"reconstructed_images.png\")\n",
        "    plt.show()"
      ],
      "execution_count": 7,
      "outputs": []
    },
    {
      "cell_type": "markdown",
      "metadata": {
        "id": "TaZthzIQcdMP"
      },
      "source": [
        "Setting a learning rate scheduler for selecting the learning rate parameter during training"
      ]
    },
    {
      "cell_type": "code",
      "metadata": {
        "id": "HwJjP5p7t7Ob"
      },
      "source": [
        "tf.keras.backend.clear_session()\n",
        "tf.random.set_seed(42)\n",
        "np.random.seed(42)\n",
        "\n",
        "# Load and prepare image dataset for training\n",
        "augmented_train_dataset, train_dataset, val_dataset, num_examples = get_datasets(test_size=TEST_SIZE)\n",
        "print(f\"Num of original examples: {num_examples}\")\n",
        "#display_three_train_images(train_dataset)\n",
        "\n",
        "# Create a callback that saves the model's weights every few epochs during training\n",
        "checkpoint_path = 'checkpoint/cp-cp{epoch:04d}.ckpt'\n",
        "cp_callback = tf.keras.callbacks.ModelCheckpoint(\n",
        "    filepath = checkpoint_path,\n",
        "    verbose = 1,\n",
        "    save_weights_only = True,\n",
        "    save_freq = math.ceil(num_examples/BATCH_SIZE) * 100\n",
        ")\n",
        "\n",
        "# Create custom callback to display outputs (via helper function) at the end of each epoch of training\n",
        "class CustomCallback(tf.keras.callbacks.Callback):\n",
        "    def on_epoch_end(self, epoch, logs=None):\n",
        "        keys = list(logs.keys())\n",
        "        # Generate random vector as test input to the decoder\n",
        "        random_vector_for_generation = tf.random.normal(shape=[8, LATENT_DIM])\n",
        "        # Generate and save images\n",
        "        display.clear_output(wait=False)\n",
        "        if epoch % 100 == 0:\n",
        "            generate_and_save_images(decoder, epoch, \n",
        "                                     math.ceil(num_examples/BATCH_SIZE), \n",
        "                                     random_vector_for_generation, vae)\n",
        "        print('End of epoch {} - mean loss = {}'.format(epoch, logs[keys[0]]))\n",
        "\n",
        "# Create callback for adjusting learning rate during training\n",
        "lr_schedule = tf.keras.callbacks.LearningRateScheduler(\n",
        "    lambda epoch: 1e-6 * 10**(epoch / 20))\n",
        "\n",
        "# Get the encoder, decoder and 'master' model (called vae)\n",
        "encoder, decoder, var_autoencoder = get_models(\n",
        "    input_shape=(IMAGE_HEIGHT, IMAGE_WIDTH, NUM_CHANNELS,), \n",
        "    latent_dim=LATENT_DIM)\n",
        "\n",
        "# Instantiate VAE class\n",
        "vae = VAE(encoder, decoder, var_autoencoder)\n",
        "\n",
        "# Compile model\n",
        "vae.compile(\n",
        "    optimizer = tf.keras.optimizers.Adam(lr=1e-6),\n",
        "    loss = tf.keras.losses.BinaryCrossentropy()\n",
        ")\n",
        "\n",
        "# Generate random vector as test input to the decoder\n",
        "random_vector_for_generation = tf.random.normal(shape=[8, LATENT_DIM])\n",
        "\n",
        "# Initialize the helper function to display outputs from an untrained model\n",
        "generate_and_save_images(decoder, 0, 0, random_vector_for_generation, vae)\n",
        "\n",
        "# Training loop using original dataset\n",
        "history = vae.fit(augmented_train_dataset, epochs=100, verbose=1, \n",
        "                  callbacks=[cp_callback, CustomCallback(), lr_schedule])"
      ],
      "execution_count": null,
      "outputs": []
    },
    {
      "cell_type": "code",
      "metadata": {
        "colab": {
          "base_uri": "https://localhost:8080/",
          "height": 286
        },
        "id": "6BSZVxR26H6D",
        "outputId": "66b9e7d8-c4f6-4580-f54a-8f36a05895a9"
      },
      "source": [
        "# Plot losses against learning rates\n",
        "plt.semilogx(vae.history.history['lr'], vae.history.history['loss'])\n",
        "plt.axis([1e-6, 0.01, 14500, 17400])"
      ],
      "execution_count": null,
      "outputs": [
        {
          "output_type": "execute_result",
          "data": {
            "text/plain": [
              "(1e-06, 0.01, 14500.0, 17400.0)"
            ]
          },
          "metadata": {
            "tags": []
          },
          "execution_count": 8
        },
        {
          "output_type": "display_data",
          "data": {
            "image/png": "[encoded data removed]",
            "text/plain": [
              "<Figure size 432x288 with 1 Axes>"
            ]
          },
          "metadata": {
            "tags": [],
            "needs_background": "light"
          }
        }
      ]
    },
    {
      "cell_type": "markdown",
      "metadata": {
        "id": "Loh9fstKcjT-"
      },
      "source": [
        "Training the model using the chosen learning rate value "
      ]
    },
    {
      "cell_type": "code",
      "metadata": {
        "id": "ja8NQJWpInIp"
      },
      "source": [
        "tf.keras.backend.clear_session()\n",
        "tf.random.set_seed(42)\n",
        "np.random.seed(42)\n",
        "\n",
        "# Load and prepare image dataset for training\n",
        "augmented_train_dataset, train_dataset, val_dataset, num_examples = get_datasets(test_size=TEST_SIZE)\n",
        "print(f\"Num of original examples: {num_examples}\")\n",
        "\n",
        "# Create a callback that saves the model's weights every few epochs during training\n",
        "checkpoint_path = './cp-cp{epoch:04d}.ckpt'\n",
        "cp_callback = tf.keras.callbacks.ModelCheckpoint(\n",
        "    filepath = checkpoint_path,\n",
        "    verbose = 1,\n",
        "    save_weights_only = True,\n",
        "    save_freq = math.ceil(num_examples*(1-TEST_SIZE)/BATCH_SIZE) * 100\n",
        ")\n",
        "\n",
        "# Create custom callback to display outputs (via helper function) at the end of each epoch of training\n",
        "class CustomCallback(tf.keras.callbacks.Callback):\n",
        "    def on_epoch_end(self, epoch, logs=None):\n",
        "        keys = list(logs.keys())\n",
        "        # Generate random vector as test input to the decoder\n",
        "        random_vector_for_generation = tf.random.normal(shape=[8, LATENT_DIM])\n",
        "        # Generate and save images\n",
        "        print('End of epoch {} - mean loss = {}'.format(epoch, logs[keys[0]]))\n",
        "        display.clear_output(wait=False)\n",
        "        if epoch % 100 == 0:\n",
        "            generate_and_save_images(decoder, epoch, \n",
        "                                     math.ceil(num_examples/BATCH_SIZE), \n",
        "                                     random_vector_for_generation, vae)\n",
        "\n",
        "# Get the encoder, decoder and 'master' model (called vae)\n",
        "encoder, decoder, var_autoencoder = get_models(\n",
        "    input_shape=(IMAGE_HEIGHT, IMAGE_WIDTH, NUM_CHANNELS,), \n",
        "    latent_dim=LATENT_DIM)\n",
        "\n",
        "# Instantiate VAE class\n",
        "vae = VAE(encoder, decoder, var_autoencoder)\n",
        "\n",
        "# Compile model\n",
        "vae.compile(\n",
        "    optimizer = tf.keras.optimizers.Adam(lr=8e-4),\n",
        "    loss = tf.keras.losses.BinaryCrossentropy()\n",
        ")\n",
        "\n",
        "# Generate random vector as test input to the decoder\n",
        "random_vector_for_generation = tf.random.normal(shape=[8, LATENT_DIM])\n",
        "\n",
        "# Initialize the helper function to display outputs from an untrained model\n",
        "generate_and_save_images(decoder, 0, 0, random_vector_for_generation, vae)\n",
        "\n",
        "# Training loop using original dataset\n",
        "history = vae.fit(x=augmented_train_dataset, \n",
        "                  epochs=EPOCHS,  \n",
        "                  verbose=1, \n",
        "                  validation_data = val_dataset, \n",
        "                  callbacks=[cp_callback, CustomCallback()])      "
      ],
      "execution_count": 8,
      "outputs": []
    },
    {
      "cell_type": "code",
      "metadata": {
        "colab": {
          "base_uri": "https://localhost:8080/",
          "height": 282
        },
        "id": "vMTLorbeoCNu",
        "outputId": "30d562d7-3cab-40bf-b99e-fb4ff059a79b"
      },
      "source": [
        "plt.scatter(range(len(vae.history.history['loss'])), vae.history.history['loss'])\n",
        "plt.scatter(range(len(vae.history.history['val_loss'])), vae.history.history['val_loss'], color='red')"
      ],
      "execution_count": 9,
      "outputs": [
        {
          "output_type": "execute_result",
          "data": {
            "text/plain": [
              "<matplotlib.collections.PathCollection at 0x7fbf4e6fb5d0>"
            ]
          },
          "metadata": {
            "tags": []
          },
          "execution_count": 9
        },
        {
          "output_type": "display_data",
          "data": {
            "image/png": "[encoded data removed]",
            "text/plain": [
              "<Figure size 432x288 with 1 Axes>"
            ]
          },
          "metadata": {
            "tags": [],
            "needs_background": "light"
          }
        }
      ]
    },
    {
      "cell_type": "code",
      "metadata": {
        "id": "P6sQRON4qRYB"
      },
      "source": [
        "# Show reconstructed images\n",
        "show_original_reconstructed_images(vae, train_dataset)"
      ],
      "execution_count": null,
      "outputs": []
    },
    {
      "cell_type": "markdown",
      "metadata": {
        "id": "ffh7_Sr2cqp6"
      },
      "source": [
        "Instantiate new model, load weights from last checkpoint and resume training"
      ]
    },
    {
      "cell_type": "code",
      "metadata": {
        "id": "ZBUrnwpMuCTv",
        "colab": {
          "base_uri": "https://localhost:8080/"
        },
        "outputId": "3aabb3a8-8453-48ff-8930-33a377069a1c"
      },
      "source": [
        "# Get the encoder, decoder and 'master' model (called vae)\n",
        "encoder, decoder, var_autoencoder = get_models(input_shape=(IMAGE_HEIGHT, IMAGE_WIDTH, NUM_CHANNELS,), latent_dim=LATENT_DIM)\n",
        "\n",
        "# Create new instance of VAE class\n",
        "new_vae = VAE(encoder, decoder, var_autoencoder)\n",
        "\n",
        "# Load weights from last checkpoint\n",
        "checkpoint_dir = '.'\n",
        "latest = tf.train.latest_checkpoint(checkpoint_dir)\n",
        "print(latest)\n"
      ],
      "execution_count": 22,
      "outputs": [
        {
          "output_type": "stream",
          "text": [
            "./cp-cp0800.ckpt\n"
          ],
          "name": "stdout"
        }
      ]
    },
    {
      "cell_type": "code",
      "metadata": {
        "id": "7liWl_S9Wzzh"
      },
      "source": [
        "new_vae.load_weights(latest)\n",
        "new_vae.compile(\n",
        "    optimizer = tf.keras.optimizers.Adam(8e-4),\n",
        "    loss = tf.keras.losses.BinaryCrossentropy()\n",
        ")"
      ],
      "execution_count": 23,
      "outputs": []
    },
    {
      "cell_type": "code",
      "metadata": {
        "id": "qbi_f_RFvE3T",
        "colab": {
          "base_uri": "https://localhost:8080/"
        },
        "outputId": "4e3cd95a-f130-451b-c49b-10b3769ee697"
      },
      "source": [
        "new_vae.evaluate(augmented_train_dataset, verbose=1)"
      ],
      "execution_count": 24,
      "outputs": [
        {
          "output_type": "stream",
          "text": [
            "25/25 [==============================] - 3s 89ms/step - loss: 13830.4582\n"
          ],
          "name": "stdout"
        },
        {
          "output_type": "execute_result",
          "data": {
            "text/plain": [
              "13828.001953125"
            ]
          },
          "metadata": {
            "tags": []
          },
          "execution_count": 24
        }
      ]
    },
    {
      "cell_type": "code",
      "metadata": {
        "id": "veT2g3x7u_0b",
        "colab": {
          "base_uri": "https://localhost:8080/",
          "height": 68
        },
        "outputId": "f1dba420-e53a-46bc-a98a-30531019bca1"
      },
      "source": [
        "# Create a callback that saves the model's weights every few epochs during training\n",
        "checkpoint_path = './cp-cp{epoch:04d}.ckpt'\n",
        "cp_callback = tf.keras.callbacks.ModelCheckpoint(\n",
        "    filepath = checkpoint_path,\n",
        "    verbose = 1,\n",
        "    save_weights_only = True,\n",
        "    save_freq = math.ceil(num_examples*(1-TEST_SIZE)/BATCH_SIZE) * 100\n",
        ")\n",
        "# Create custom callback to display outputs (via helper function) at the end of each epoch of training\n",
        "class CustomCallback(tf.keras.callbacks.Callback):\n",
        "    def on_epoch_end(self, epoch, logs=None):\n",
        "        keys = list(logs.keys())\n",
        "        # Generate random vector as test input to the decoder\n",
        "        random_vector_for_generation = tf.random.normal(shape=[8, LATENT_DIM])\n",
        "        # Generate and save images\n",
        "        display.clear_output(wait=True)\n",
        "        if epoch % 100 == 0:\n",
        "            generate_and_save_images(decoder, epoch, \n",
        "                                     math.ceil(num_examples/BATCH_SIZE), \n",
        "                                     random_vector_for_generation, new_vae)\n",
        "        print('End of epoch {} - mean loss = {}'.format(epoch, logs[keys[0]]))\n",
        "\n",
        "# Resume training using original dataset\n",
        "new_vae.fit(x=augmented_train_dataset, epochs=500, \n",
        "            verbose=1, \n",
        "            validation_data=val_dataset, \n",
        "            callbacks=[cp_callback, CustomCallback()])"
      ],
      "execution_count": null,
      "outputs": [
        {
          "output_type": "stream",
          "text": [
            "End of epoch 226 - mean loss = 13159.765625\n",
            "Epoch 228/500\n",
            "25/25 [==============================] - ETA: 0s - loss: 13159.1133"
          ],
          "name": "stdout"
        }
      ]
    },
    {
      "cell_type": "code",
      "metadata": {
        "id": "a1tikmPh6yYh"
      },
      "source": [
        "plt.scatter(range(len(new_vae.history.history['loss'])), new_vae.history.history['loss'])\n",
        "plt.scatter(range(len(new_vae.history.history['loss'])), new_vae.history.history['val_loss'], color='red')"
      ],
      "execution_count": null,
      "outputs": []
    },
    {
      "cell_type": "markdown",
      "metadata": {
        "id": "eDT7Jm4ndBfB"
      },
      "source": [
        "Compare the original images with the reconstructed images from the trained model"
      ]
    },
    {
      "cell_type": "code",
      "metadata": {
        "id": "KVLen6k1uIJ-"
      },
      "source": [
        "# Show reconstructed images\n",
        "show_original_reconstructed_images(vae, train_dataset)"
      ],
      "execution_count": null,
      "outputs": []
    }
  ]
}